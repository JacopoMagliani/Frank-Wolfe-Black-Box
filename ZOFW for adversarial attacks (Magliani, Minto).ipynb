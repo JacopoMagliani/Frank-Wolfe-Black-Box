{
 "cells": [
  {
   "cell_type": "markdown",
   "id": "4c3c008e",
   "metadata": {
    "id": "RZr1-266n1y1"
   },
   "source": [
    "#Zero-th Order Frank Wolfe methods for adversarial attacks\n",
    "Authors:\n",
    "- Jacopo Magliani 2040912\n",
    "- Stefano Minto 2062885"
   ]
  },
  {
   "cell_type": "code",
   "execution_count": 1,
   "id": "3cce3678",
   "metadata": {
    "id": "baca0eec"
   },
   "outputs": [],
   "source": [
    "#import libraries\n",
    "import numpy as np\n",
    "import math\n",
    "from tensorflow.keras.datasets import mnist\n",
    "from tensorflow.keras.utils import to_categorical\n",
    "from numpy import asarray\n",
    "from keras.models import Sequential\n",
    "from tensorflow.keras import layers\n",
    "from tensorflow.keras.layers import Conv2D\n",
    "from tensorflow.keras.layers import MaxPool2D\n",
    "import os\n",
    "import matplotlib.pyplot as plt\n",
    "import time\n",
    "import random"
   ]
  },
  {
   "cell_type": "code",
   "execution_count": 7,
   "id": "35d1bb3c",
   "metadata": {
    "id": "db5f03e1"
   },
   "outputs": [],
   "source": [
    "#Function to obtain a vector of length \"dim\" such that the sum of the squared elements is equal to \"norm\"\n",
    "def sample_vector_with_norm(dim, norm):\n",
    "    u = np.random.normal(size=dim)  # Generate a vector from a standard normal distribution\n",
    "    u /= np.linalg.norm(u)  # Normalize the vector to have a unit length\n",
    "    u *= norm  # Scale the vector to the desired norm\n",
    "    return u"
   ]
  },
  {
   "cell_type": "markdown",
   "id": "32c9a365",
   "metadata": {
    "id": "kAwQhtBbBenY"
   },
   "source": [
    "# Frank Wolfe Black Box"
   ]
  },
  {
   "cell_type": "code",
   "execution_count": 3,
   "id": "8b7ab1f6",
   "metadata": {
    "id": "4cff0c3f"
   },
   "outputs": [],
   "source": [
    "#Function to obtain the estimate of the gradient of the the given input \"x\" (matrix, pixels of the image) and (incorrect) label \"y_tar\"\n",
    "#\"d\" is the number of dimensions, it is 28 for a matrix \"x\" 28x28\n",
    "#\"b\" and \"sigma\" are parameters to scale the result\n",
    "#\"opt\" refers to (opt=1) sample \"u\" uniformly from the euclidean unit sphere with \"norm\"=1 or (opt=2) from the standard Gaussian distribution\n",
    "#\"rgb\" refers to (rgb=1) a rgb image\n",
    "\n",
    "#Original algorithm uses a for cycle and for each iteration samples a vector \"u\" to change the original \"x\", compute the loss function and sums the\n",
    "#obtained \"q\" to the previous output.\n",
    "#Instead, to speed up the computation we obtain \"b\" different vectors \"u\" and in parallel we compute the operations, then we sum the results\n",
    "\n",
    "def GRAD_EST(x,b,d,sigma,y_tar,opt,rgb):\n",
    "    if(opt==1):\n",
    "        u=[]\n",
    "        for i in range(b): #create \"b\" vectors \"u\"\n",
    "            u2=sample_vector_with_norm(d**2,1)\n",
    "            u2=u2.reshape(d,d)\n",
    "            if(rgb==1):#if rgb replicate each rgb pixel\n",
    "              u2=np.repeat(u2[:, :, np.newaxis], 3, axis=2)\n",
    "            u.append(u2)\n",
    "        if(rgb==1):\n",
    "          mats=np.tile(x, (b, 1, 1, 1))\n",
    "        else:\n",
    "          mats=np.tile(x, (b, 1, 1)) #replicate \"b\" times both the original \"x\" and \"y_tar\" to allow parallel operations\n",
    "        lab=np.tile(y_tar, (b, 1))\n",
    "        pred1=model(mats+np.multiply(u,sigma))#obtain the predictions for each matrix\n",
    "        pred2=model(mats-np.multiply(u,sigma))\n",
    "        res=-np.sum(lab * np.log(pred1), axis=1)+np.sum(lab * np.log(pred2), axis=1) #obtain the loss for each matrix\n",
    "        res=(res*d**2)/(2*b*sigma) #rescale\n",
    "        if(rgb==1):\n",
    "          res = np.repeat(res, 3)\n",
    "          res = res.reshape(-1, 3)\n",
    "        res=u*res[:, np.newaxis, np.newaxis] #multiply the result of each matrix for its corresponding \"u\"\n",
    "        return np.sum(res,axis=0) #sum the results of all matrices\n",
    "    else:\n",
    "        u=[]\n",
    "        for i in range(b):\n",
    "            u2=np.random.randn(d**2)\n",
    "            u2=u2.reshape(d,d)\n",
    "            if(rgb==1):\n",
    "              u2=np.repeat(u2[:, :, np.newaxis], 3, axis=2)\n",
    "            u.append(u2)\n",
    "        if(rgb==1):\n",
    "          mats=np.tile(x, (b, 1, 1, 1))\n",
    "        else:\n",
    "          mats=np.tile(x, (b, 1, 1))\n",
    "        lab=np.tile(y_tar, (b, 1))\n",
    "        pred1=model(mats+np.multiply(u,sigma))\n",
    "        pred2=model(mats-np.multiply(u,sigma))\n",
    "        res=-np.sum(lab * np.log(pred1), axis=1)+np.sum(lab * np.log(pred2), axis=1)\n",
    "        res=res/(2*b*sigma)\n",
    "        if(rgb==1):\n",
    "          res = np.repeat(res, 3)\n",
    "          res = res.reshape(-1, 3)\n",
    "        res=u*res[:, np.newaxis, np.newaxis]\n",
    "        return np.sum(res,axis=0)\n"
   ]
  },
  {
   "cell_type": "code",
   "execution_count": 4,
   "id": "ac0529f2",
   "metadata": {
    "id": "e202816e"
   },
   "outputs": [],
   "source": [
    "#Function to obtain the modified matrix of the original \"x_ori\" given its target wrong label \"y_tar\"\n",
    "#\"T\" is the number of iterations, at each iteration performs the estimate of the gradient to update \"x\", in the end return the modified \"x\"\n",
    "#\"d\",\"b\",\"sigma\",\"opt\" are the same parameters \"GRAD_EST\" receives in input\n",
    "#y_step are the steps size\n",
    "def frank_wolfe_bb(x_ori, y_tar,d, T,epsilon, y_step, b, sigma,beta,opt,rgb):\n",
    "    x = x_ori.copy() #copy the original to avoid errors\n",
    "    m = GRAD_EST(x, b,d, sigma, y_tar , opt,rgb)\n",
    "    changes=[] #instead of returns just the last \"x\" at each iteration append the obtained \"x\" so far. This is used for later graphical plots purposes\n",
    "\n",
    "    for t in range(1,T+1): #it must start with 1 and not 0 since later y_step/math.sqrt(t)\n",
    "        q = GRAD_EST(x, b,d ,sigma,y_tar,opt,rgb)\n",
    "        m = beta * m + (1 - beta) * q\n",
    "        x = x - y_step/math.sqrt(t) * epsilon * np.sign(m) - y_step/math.sqrt(t) * (x - x_ori)\n",
    "        changes.append(x)\n",
    "\n",
    "    return changes #the ultimate \"x\" would be the last of the list"
   ]
  },
  {
   "cell_type": "markdown",
   "id": "56fd2d41",
   "metadata": {
    "id": "f0LKD4fkBrtk"
   },
   "source": [
    "# Acc-FWBB"
   ]
  },
  {
   "cell_type": "code",
   "execution_count": 5,
   "id": "a0072935",
   "metadata": {
    "id": "C0U0qgjr875W"
   },
   "outputs": [],
   "source": [
    "#Functions to obtain the estimate of the gradient of the given matrix \"x\" and label \"y_tar\"\n",
    "\n",
    "#The original algorithm draws \"b_length\" i.i.d vectors \"u\" from uniform distribution over unit sphere, then peforms the mean of the\n",
    "#estimates of the gradients\n",
    "#Here we receive the original \"x\", the label \"y_tar\" and the \"b_length\" vectors \"u\"\n",
    "#As for GRAD_EST we replicate \"x\" and \"y_tar\" for \"b_length\" times to allow parallel computation for each \"u\"\n",
    "#\"d\" is the number of dimensions, it is 28 for a matrix \"x\" 28x28\n",
    "#\"beta\" is a smoothing parameter\n",
    "def unige(x,y_tar,d,b_length,beta,u,rgb):\n",
    "    if(rgb==1):\n",
    "      mats=np.tile(x, (b_length, 1, 1, 1))\n",
    "    else:\n",
    "      mats=np.tile(x, (b_length, 1, 1))\n",
    "    lab=np.tile(y_tar, (b_length, 1))\n",
    "    pred1=model(mats+np.multiply(u,beta))#prediction using the modified \"x\"\n",
    "    pred2=model(mats) #predictions using the original \"x\"\n",
    "    res=-np.sum(lab * np.log(pred1), axis=1)+np.sum(lab * np.log(pred2), axis=1)\n",
    "    res=res*d**2/beta\n",
    "    if(rgb==1):\n",
    "      res = np.repeat(res, 3)\n",
    "      res = res.reshape(-1, 3)\n",
    "    res=u*res[:, np.newaxis, np.newaxis]\n",
    "    return np.sum(res,axis=0)\n",
    "\n",
    "#The original algorithm peforms \"d\" sums, where \"mi\" is a coordinate-wise smoothing parameter and \"e\" is a basis vector with 1 at its j-th coordinate\n",
    "#and 0 otherwhise\n",
    "#Instead of doing a for cycle again we use parallel computation\n",
    "def cooge(x,y_tar, d,mi,indexes,rgb):\n",
    "    if(rgb==1):\n",
    "      first=np.tile(x, (d**2, 1, 1,1))\n",
    "      zer=np.zeros((d**2, d, d,3))\n",
    "    else:\n",
    "      first=np.tile(x, (d**2, 1, 1))#copy the original matrix \"x\" and the label \"y_tar\" d*d times\n",
    "      zer=np.zeros((d**2, d, d))#create 784 matrices of 0\n",
    "    second=first.copy()\n",
    "    lab=np.tile(y_tar, (d**2, 1))\n",
    "    if(len(indexes)==d**2): #if we have 784 indices iteratively add 1*\"mi\" in the correct position of the right matrix e.g. ind=1 -> [mat=1,row=0,col=1]\n",
    "        for i in range(d):\n",
    "            for j in range(d):\n",
    "                index = i * d + j\n",
    "                zer[index, i, j] = mi\n",
    "    else:#otherwise put 1*\"mi\" only in the given positions\n",
    "        for ind in indexes:\n",
    "            zer[ind,ind//d,ind%d] = mi\n",
    "    first = first+zer\n",
    "    second= second-zer\n",
    "    pred1=model(first)\n",
    "    pred2=model(second)\n",
    "    res=(-np.sum(lab * np.log(pred1), axis=1)+np.sum(lab * np.log(pred2), axis=1))/(2*mi)\n",
    "    if(rgb==1):\n",
    "      res = np.repeat(res, 3)\n",
    "      res = res.reshape(-1, 3)\n",
    "    res=zer*res[:, np.newaxis, np.newaxis]\n",
    "    return np.sum(res,axis=0)"
   ]
  },
  {
   "cell_type": "code",
   "execution_count": 6,
   "id": "b304d4e0",
   "metadata": {
    "id": "aq6d82TQFn3y"
   },
   "outputs": [],
   "source": [
    "#Function to implement Acc-SZOFW algorithm\n",
    "#\"x_ori\" is the original matrix \"d\"x\"d\", \"y_tar\" is the incorrect target label\n",
    "#\"T\" is the number of iterations, \"q\" is used to switch between the possible computations\n",
    "#\"n\" is used for the finite sum setting and mod(t,q)=0, for Single Adversarial Perturbation it is fixed to 1\n",
    "#\"mi\" is used for Cooge, \"beta\" for Unige\n",
    "# \"b1\" for the stochastic setting and mod(t,q)=0 for both Cooge and Unige , \"b2\" when mod(t,q)!=0\n",
    "#\"fs_setting\" refers to use the finite sum setting (1), \"setting2\" refers to use Cooge (1) or Unige (2) in the stochastic setting\n",
    "\n",
    "def acc_szofw(x_ori,y_tar,d, T,epsilon,q,b,b1,b2, n, mi,eta,beta, fs_setting, setting2,rgb):\n",
    "    changes=[]\n",
    "    x = x_ori.copy()\n",
    "    y = x_ori.copy()\n",
    "    z = x_ori.copy()\n",
    "    z_list=[]#again instead of return just the last result we memorize all the results at each iteration\n",
    "    v=np.zeros(d**2)\n",
    "    v=v.reshape(d,d)\n",
    "    res=np.zeros(d**2)\n",
    "    res=res.reshape(d,d)\n",
    "    if(rgb==1):\n",
    "      v=np.repeat(v[:, :, np.newaxis], 3, axis=2)\n",
    "      res=np.repeat(res[:, :, np.newaxis], 3, axis=2)\n",
    "\n",
    "    for t in range(0,T):\n",
    "        if(t%q==0): #if mod(t,q)=0\n",
    "            if(fs_setting==1):#if finite sum setting use complete Cooge with 784 indexes\n",
    "                indexes=np.arange(0,d**2)\n",
    "                v = cooge(z,y_tar, d,mi,indexes,rgb)/n\n",
    "            else:#if stochastic setting\n",
    "                if(setting2==1):#use Cooge with b1 random features\n",
    "                    indexes=random.sample(range(d**2), b1) #draws b1 indexes from 0 to 784\n",
    "                    v = cooge(z,y_tar, d,mi,indexes,rgb)/b1\n",
    "                else:#use Unige with b1 i.i.d u\n",
    "                    u=[]\n",
    "                    for i in range(b1):\n",
    "                        u2=sample_vector_with_norm(d**2,1)\n",
    "                        u2=u2.reshape(d,d)\n",
    "                        if(rgb==1):\n",
    "                          u2=np.repeat(u2[:, :, np.newaxis], 3, axis=2)\n",
    "                        u.append(u2)\n",
    "                    v = unige(z,y_tar,d,b1,beta,u,rgb)/b1\n",
    "\n",
    "        else:#if mod(t,q)!=0\n",
    "            if(fs_setting==1):#if finite sum setting use Cooge with d*d indexes, of these indexes draw b\n",
    "                indexes=np.arange(0,d**2)\n",
    "                b=random.sample([i for i in range(1, n+1)],b)[0]\n",
    "                first=cooge(z,y_tar, d,mi,indexes,rgb)\n",
    "                second=cooge(z_list[t-1],y_tar, d,mi,indexes,rgb)\n",
    "                res = first-second\n",
    "                v = res/b + v\n",
    "            else:#if stochastic setting\n",
    "                if(setting2==1):#use Cooge with b2 random features\n",
    "                    indexes=random.sample(range(d**2), b2)\n",
    "                    first=cooge(z,y_tar, d,mi,indexes,rgb)\n",
    "                    second=cooge(z_list[t-1],y_tar, d,mi,indexes,rgb)\n",
    "                    res = first-second\n",
    "                    v = res/b2 + v\n",
    "                else:#use Unige with b2 i.i.d u\n",
    "                    u=[]\n",
    "                    for i in range(b2):\n",
    "                        u2=sample_vector_with_norm(d**2,1)\n",
    "                        u2=u2.reshape(d,d)\n",
    "                        if(rgb==1):\n",
    "                          u2=np.repeat(u2[:, :, np.newaxis], 3, axis=2)\n",
    "                        u.append(u2)\n",
    "                    first=unige(z,y_tar,d,b2,beta,u,rgb)\n",
    "                    second=unige(z_list[t-1],y_tar,d,b2,beta,u,rgb)\n",
    "                    res = first-second\n",
    "                    v = res/b2 + v\n",
    "\n",
    "        alpha=1/(t+1)\n",
    "        omega=1/((t+1)*(t+2))\n",
    "        gamma= 2*(1+omega)*eta\n",
    "        x = x - gamma*epsilon*np.sign(v)-gamma*(x-x_ori)\n",
    "        y = z - eta*epsilon*np.sign(v)-eta*(z-x_ori)\n",
    "        z = (1-alpha)*y + alpha*x\n",
    "        z_list.append(z)\n",
    "\n",
    "        changes.append(random.choice(z_list))\n",
    "    return changes"
   ]
  },
  {
   "cell_type": "markdown",
   "id": "82530549",
   "metadata": {
    "id": "zay9MP_WCDcU"
   },
   "source": [
    "# MNIST Dataset & Model"
   ]
  },
  {
   "cell_type": "code",
   "execution_count": 7,
   "id": "c840197b",
   "metadata": {
    "colab": {
     "base_uri": "https://localhost:8080/"
    },
    "id": "1f2da2e0",
    "outputId": "3c07d54f-7dec-4085-9542-9e74fa46a158"
   },
   "outputs": [
    {
     "name": "stdout",
     "output_type": "stream",
     "text": [
      "Downloading data from https://storage.googleapis.com/tensorflow/tf-keras-datasets/mnist.npz\n",
      "11490434/11490434 [==============================] - 0s 0us/step\n"
     ]
    }
   ],
   "source": [
    "#Download mnist train and test sets\n",
    "(train_data_or, train_labels_or), (test_data_or, test_labels_or) = mnist.load_data()\n",
    "train_data = train_data_or.astype('float32') / 255.0 #Normalize pixels in range [0, 1]\n",
    "test_data = test_data_or.astype('float32') / 255.0\n",
    "train_data = np.expand_dims(train_data, axis=-1) #Expand the shape\n",
    "test_data = np.expand_dims(test_data, axis=-1)\n",
    "num_classes = 10 #from each label get an array e.g. label=5 -> [0,0,0,0,0,1,0,0,0,0]\n",
    "train_labels = to_categorical(train_labels_or, num_classes)\n",
    "test_labels = to_categorical(test_labels_or, num_classes)"
   ]
  },
  {
   "cell_type": "code",
   "execution_count": 8,
   "id": "3d4fe7e8",
   "metadata": {
    "id": "176bb053"
   },
   "outputs": [],
   "source": [
    "#Create a model as described in the papers (6 layers CNN with 4 convolutional layers followed by 2 dense layers with max-pooling and Relu activations)\n",
    "model = Sequential()\n",
    "model.add(layers.Conv2D(32, (3, 3), activation='relu', input_shape=(28, 28, 1), padding='same'))# First Convolutional Layer\n",
    "model.add(MaxPool2D(2,2))\n",
    "model.add(layers.Conv2D(64, (3, 3), activation='relu', padding='same'))# Second Convolutional Layer\n",
    "model.add(MaxPool2D(2,2))\n",
    "model.add(layers.Conv2D(128, (3, 3), activation='relu', padding='same'))# Third Convolutional Layer\n",
    "model.add(MaxPool2D(2,2))\n",
    "model.add(layers.Conv2D(256, (3, 3), activation='relu', padding='same'))# Fourth Convolutional Layer\n",
    "model.add(MaxPool2D(2,2))\n",
    "model.add(layers.Flatten())# Flatten the output for the Dense layers\n",
    "model.add(layers.Dense(512, activation='relu'))# First Dense Layer\n",
    "model.add(layers.Dense(256, activation='relu'))# Second Dense Layer\n",
    "model.add(layers.Dense(num_classes, activation='softmax'))#Output layer\n",
    "# Compile the model, use categorical cross entropy since we have multiple labels\n",
    "model.compile(optimizer='adam',\n",
    "              loss='categorical_crossentropy',\n",
    "              metrics=['accuracy'])"
   ]
  },
  {
   "cell_type": "code",
   "execution_count": 9,
   "id": "3fb4e9ae",
   "metadata": {
    "colab": {
     "base_uri": "https://localhost:8080/"
    },
    "id": "c562924a",
    "outputId": "404aa449-1324-4087-f294-7349a1d6c510"
   },
   "outputs": [
    {
     "name": "stdout",
     "output_type": "stream",
     "text": [
      "Epoch 1/10\n",
      "48/48 [==============================] - 16s 38ms/step - loss: 0.8691 - accuracy: 0.7250 - val_loss: 0.2023 - val_accuracy: 0.9367\n",
      "Epoch 2/10\n",
      "48/48 [==============================] - 2s 32ms/step - loss: 0.1438 - accuracy: 0.9555 - val_loss: 0.1028 - val_accuracy: 0.9702\n",
      "Epoch 3/10\n",
      "48/48 [==============================] - 1s 31ms/step - loss: 0.0800 - accuracy: 0.9748 - val_loss: 0.0694 - val_accuracy: 0.9801\n",
      "Epoch 4/10\n",
      "48/48 [==============================] - 2s 32ms/step - loss: 0.0641 - accuracy: 0.9803 - val_loss: 0.0628 - val_accuracy: 0.9806\n",
      "Epoch 5/10\n",
      "48/48 [==============================] - 2s 32ms/step - loss: 0.0543 - accuracy: 0.9831 - val_loss: 0.1119 - val_accuracy: 0.9643\n",
      "Epoch 6/10\n",
      "48/48 [==============================] - 1s 31ms/step - loss: 0.0494 - accuracy: 0.9853 - val_loss: 0.0413 - val_accuracy: 0.9885\n",
      "Epoch 7/10\n",
      "48/48 [==============================] - 2s 32ms/step - loss: 0.0333 - accuracy: 0.9895 - val_loss: 0.0418 - val_accuracy: 0.9887\n",
      "Epoch 8/10\n",
      "48/48 [==============================] - 2s 33ms/step - loss: 0.0321 - accuracy: 0.9894 - val_loss: 0.0431 - val_accuracy: 0.9865\n",
      "Epoch 9/10\n",
      "48/48 [==============================] - 2s 33ms/step - loss: 0.0260 - accuracy: 0.9920 - val_loss: 0.0421 - val_accuracy: 0.9871\n",
      "Epoch 10/10\n",
      "48/48 [==============================] - 1s 31ms/step - loss: 0.0229 - accuracy: 0.9930 - val_loss: 0.0385 - val_accuracy: 0.9890\n"
     ]
    },
    {
     "data": {
      "text/plain": [
       "<keras.src.callbacks.History at 0x7e56432ff760>"
      ]
     },
     "execution_count": 9,
     "metadata": {},
     "output_type": "execute_result"
    }
   ],
   "source": [
    "model.fit(train_data, train_labels, epochs=10, batch_size=1000, validation_split=0.2)#train model on Mnist using validation set"
   ]
  },
  {
   "cell_type": "code",
   "execution_count": 10,
   "id": "4e7df39d",
   "metadata": {
    "colab": {
     "base_uri": "https://localhost:8080/"
    },
    "id": "56b225c1",
    "outputId": "630c3cbe-d013-4755-f1b5-919aa4e9602a"
   },
   "outputs": [
    {
     "name": "stdout",
     "output_type": "stream",
     "text": [
      "313/313 [==============================] - 1s 3ms/step - loss: 0.0272 - accuracy: 0.9912\n"
     ]
    },
    {
     "data": {
      "text/plain": [
       "[0.027166098356246948, 0.9911999702453613]"
      ]
     },
     "execution_count": 10,
     "metadata": {},
     "output_type": "execute_result"
    }
   ],
   "source": [
    "model.evaluate(test_data,test_labels) #Evaluate the trained model on test set and get accuracy"
   ]
  },
  {
   "cell_type": "code",
   "execution_count": 11,
   "id": "0170ff07",
   "metadata": {
    "colab": {
     "base_uri": "https://localhost:8080/"
    },
    "id": "a9650f14",
    "outputId": "47996209-a0c0-423d-fc7a-6b2d1884e74d"
   },
   "outputs": [
    {
     "name": "stdout",
     "output_type": "stream",
     "text": [
      "313/313 [==============================] - 1s 2ms/step\n"
     ]
    }
   ],
   "source": [
    "#get the indices of the correctly classified samples of the test set\n",
    "predictions = model.predict(test_data)#get predictions\n",
    "correctly_predicted_indices = np.argmax(predictions, axis=1) == np.argmax(test_labels, axis=1)#get indices of correct predictions\n",
    "correctly_predicted_inputs = test_data_or[correctly_predicted_indices]#keep only pixels and labels of correct predictions\n",
    "correctly_predicted_labels = np.argmax(test_labels[correctly_predicted_indices], axis=1)"
   ]
  },
  {
   "cell_type": "code",
   "execution_count": 12,
   "id": "c1440fe2",
   "metadata": {
    "id": "caa12a58"
   },
   "outputs": [],
   "source": [
    "# Randomly select 1000 samples and generate a fake target class for each image\n",
    "num_samples_to_select = 1000\n",
    "np.random.seed(42)\n",
    "random_indices = np.random.choice(correctly_predicted_inputs.shape[0], num_samples_to_select, replace=False)#get random indices\n",
    "\n",
    "random_correctly_predicted_inputs = correctly_predicted_inputs[random_indices]#get 1000 of the correctly predicted samples\n",
    "random_correctly_predicted_inputs = random_correctly_predicted_inputs.astype('float32') / 255.0\n",
    "random_correctly_predicted_labels = correctly_predicted_labels[random_indices] #get the corresponding true labels\n",
    "random_errate_predicted_labels=np.random.randint(9, size=len(random_correctly_predicted_labels))#generate 1000 fake target labels in [0,9]\n",
    "#while we still have some fake labels equal to the true labels (because of random sampling) for these samples generate new fake labels\n",
    "while(np.sum(random_errate_predicted_labels==random_correctly_predicted_labels)):\n",
    "    random_errate_predicted_labels[np.where(random_correctly_predicted_labels==random_errate_predicted_labels)[0]]=np.random.randint(9)\n"
   ]
  },
  {
   "cell_type": "code",
   "execution_count": 13,
   "id": "a20a9c5e",
   "metadata": {
    "id": "4688b60c"
   },
   "outputs": [],
   "source": [
    "true_labels = to_categorical(random_correctly_predicted_labels, num_classes)\n",
    "err_labels = to_categorical(random_errate_predicted_labels, num_classes)"
   ]
  },
  {
   "cell_type": "markdown",
   "id": "f52363af",
   "metadata": {
    "id": "4SL0lVAYCO2F"
   },
   "source": [
    "# Mnist FWBB"
   ]
  },
  {
   "cell_type": "code",
   "execution_count": 14,
   "id": "df7fd2e4",
   "metadata": {
    "id": "e6b803c4",
    "scrolled": true
   },
   "outputs": [],
   "source": [
    "#euclidean sphere\n",
    "gg = np.arange(1000)\n",
    "d = 28\n",
    "T = 10\n",
    "epsilon = 0.3\n",
    "y_step = 0.8\n",
    "b = 25\n",
    "sigma = 0.01\n",
    "beta = 0.99\n",
    "opt = 1\n",
    "rgb=0\n",
    "start_time = time.process_time()\n",
    "results_fwb1 = [frank_wolfe_bb(random_correctly_predicted_inputs[i],err_labels[i], d,T,epsilon,y_step,b,sigma,beta,opt,rgb) for i in gg]\n",
    "end_time = time.process_time()\n",
    "elapsed_time_fwb1 = end_time - start_time"
   ]
  },
  {
   "cell_type": "code",
   "execution_count": 15,
   "id": "71f154f4",
   "metadata": {
    "colab": {
     "base_uri": "https://localhost:8080/",
     "height": 386
    },
    "id": "_IWoSf0Bm_z4",
    "outputId": "73bc38cc-6d0e-4fc4-81ea-409cea916a01"
   },
   "outputs": [
    {
     "data": {
      "image/png": "[encoded data removed]",
      "text/plain": [
       "<Figure size 640x480 with 2 Axes>"
      ]
     },
     "metadata": {},
     "output_type": "display_data"
    },
    {
     "name": "stdout",
     "output_type": "stream",
     "text": [
      "L-infinite norm of the difference: 0.24\n",
      "1/1 [==============================] - 0s 152ms/step\n",
      "True Label: 1 Predicted Label: 8\n"
     ]
    }
   ],
   "source": [
    "figg, axx = plt.subplots(1,2)\n",
    "plt.gray()\n",
    "axx[0].imshow(random_correctly_predicted_inputs[100])\n",
    "axx[0].axis('off')\n",
    "axx[1].imshow(results_fwb1[100][0])\n",
    "axx[1].axis('off')\n",
    "plt.tight_layout()\n",
    "plt.show()\n",
    "\n",
    "# Calculate the L-infinite norm of the difference matrix\n",
    "print(\"L-infinite norm of the difference: {}\".format(np.max(np.abs((results_fwb1[100][0]) - (random_correctly_predicted_inputs[100])))))\n",
    "sample=np.expand_dims(results_fwb1[100][0], axis=-1)\n",
    "sample=np.expand_dims(sample, axis=0)\n",
    "label = np.expand_dims(true_labels[100], axis=0)\n",
    "print(\"True Label: {} Predicted Label: {}\".format(np.argmax(true_labels[100]), np.argmax(model.predict(sample))))"
   ]
  },
  {
   "cell_type": "code",
   "execution_count": 16,
   "id": "6b5317b5",
   "metadata": {
    "id": "iYb1xIkIB1xa"
   },
   "outputs": [],
   "source": [
    "#Gaussian distribution\n",
    "gg = np.arange(1000)\n",
    "d = 28\n",
    "T = 10\n",
    "epsilon = 0.3\n",
    "y_step = 0.8\n",
    "b = 25\n",
    "sigma = 0.01\n",
    "beta = 0.99\n",
    "opt = 2\n",
    "rgb=0\n",
    "start_time = time.process_time()\n",
    "results_fwb2 = [frank_wolfe_bb(random_correctly_predicted_inputs[i],err_labels[i], d,T,epsilon,y_step,b,sigma,beta,opt,rgb) for i in gg]\n",
    "end_time = time.process_time()\n",
    "elapsed_time_fwb2 = end_time - start_time"
   ]
  },
  {
   "cell_type": "code",
   "execution_count": 17,
   "id": "165b9b96",
   "metadata": {
    "colab": {
     "base_uri": "https://localhost:8080/",
     "height": 386
    },
    "id": "8xO3DZPqtZ7C",
    "outputId": "c0613fc4-9761-4cef-bfee-151d8ab84e04"
   },
   "outputs": [
    {
     "data": {
      "image/png": "[encoded data removed]",
      "text/plain": [
       "<Figure size 640x480 with 2 Axes>"
      ]
     },
     "metadata": {},
     "output_type": "display_data"
    },
    {
     "name": "stdout",
     "output_type": "stream",
     "text": [
      "L-infinite norm of the difference: 0.24\n",
      "1/1 [==============================] - 0s 31ms/step\n",
      "True Label: 1 Predicted Label: 8\n"
     ]
    }
   ],
   "source": [
    "figg, axx = plt.subplots(1,2)\n",
    "plt.gray()\n",
    "axx[0].imshow(random_correctly_predicted_inputs[100])\n",
    "axx[0].axis('off')\n",
    "axx[1].imshow(results_fwb2[100][0])\n",
    "axx[1].axis('off')\n",
    "plt.tight_layout()\n",
    "plt.show()\n",
    "\n",
    "# Calculate the L-infinite norm of the difference matrix\n",
    "print(\"L-infinite norm of the difference: {}\".format(np.max(np.abs((results_fwb2[100][0]) - (random_correctly_predicted_inputs[100])))))\n",
    "sample=np.expand_dims(results_fwb2[100][0], axis=-1)\n",
    "sample=np.expand_dims(sample, axis=0)\n",
    "label = np.expand_dims(true_labels[100], axis=0)\n",
    "print(\"True Label: {} Predicted Label: {}\".format(np.argmax(true_labels[100]), np.argmax(model.predict(sample))))"
   ]
  },
  {
   "cell_type": "code",
   "execution_count": 18,
   "id": "edd8c3ca",
   "metadata": {
    "colab": {
     "base_uri": "https://localhost:8080/"
    },
    "id": "Bm6GpStlaGth",
    "outputId": "c3943404-9967-4e4d-be63-cad8278d2f9a"
   },
   "outputs": [
    {
     "name": "stdout",
     "output_type": "stream",
     "text": [
      "313/313 [==============================] - 1s 3ms/step - loss: 0.0272 - accuracy: 0.9912\n",
      "32/32 [==============================] - 1s 8ms/step - loss: 0.3005 - accuracy: 0.8900\n",
      "32/32 [==============================] - 0s 4ms/step - loss: 0.5005 - accuracy: 0.8190\n",
      "32/32 [==============================] - 0s 4ms/step - loss: 0.5892 - accuracy: 0.7940\n",
      "32/32 [==============================] - 0s 4ms/step - loss: 0.6366 - accuracy: 0.7800\n",
      "32/32 [==============================] - 0s 4ms/step - loss: 0.6628 - accuracy: 0.7730\n",
      "32/32 [==============================] - 0s 4ms/step - loss: 0.6779 - accuracy: 0.7630\n",
      "32/32 [==============================] - 0s 4ms/step - loss: 0.6846 - accuracy: 0.7600\n",
      "32/32 [==============================] - 0s 4ms/step - loss: 0.6907 - accuracy: 0.7550\n",
      "32/32 [==============================] - 0s 5ms/step - loss: 0.6955 - accuracy: 0.7560\n",
      "32/32 [==============================] - 0s 4ms/step - loss: 0.7005 - accuracy: 0.7540\n",
      "32/32 [==============================] - 0s 5ms/step - loss: 0.3234 - accuracy: 0.8890\n",
      "32/32 [==============================] - 0s 5ms/step - loss: 0.5387 - accuracy: 0.8150\n",
      "32/32 [==============================] - 0s 5ms/step - loss: 0.6315 - accuracy: 0.7910\n",
      "32/32 [==============================] - 0s 5ms/step - loss: 0.6765 - accuracy: 0.7800\n",
      "32/32 [==============================] - 0s 5ms/step - loss: 0.7006 - accuracy: 0.7740\n",
      "32/32 [==============================] - 0s 5ms/step - loss: 0.7147 - accuracy: 0.7710\n",
      "32/32 [==============================] - 0s 6ms/step - loss: 0.7240 - accuracy: 0.7700\n",
      "32/32 [==============================] - 0s 5ms/step - loss: 0.7299 - accuracy: 0.7690\n",
      "32/32 [==============================] - 0s 4ms/step - loss: 0.7331 - accuracy: 0.7660\n",
      "32/32 [==============================] - 0s 4ms/step - loss: 0.7351 - accuracy: 0.7680\n"
     ]
    }
   ],
   "source": [
    "#Obtain a list of tuples (iteration T, accuracy at iteration T, L-infinite norm of distance at iteration T)\n",
    "finals_fwb1=[]\n",
    "finals_fwb1.append([0,model.evaluate(test_data,test_labels)[1],0.0,0.0]) #at first the accuracy is 99% and the L-infinite norm of distance is 0\n",
    "for i in range(T): #for each iteration calculate the accuracy and L-infinite norm of distance of the obtained modified matrices of that iteration\n",
    "  matrices=[inner_list[i] for inner_list in results_fwb1]\n",
    "  tl = np.expand_dims(true_labels[:1000], axis=-1)\n",
    "  td=np.expand_dims(matrices, axis=-1)\n",
    "  finals_fwb1.append([i+1,model.evaluate(td,tl)[1],np.max((matrices)-(random_correctly_predicted_inputs[:1000])),np.abs(np.mean((matrices)-(random_correctly_predicted_inputs[:1000])))])\n",
    "\n",
    "finals_fwb2=[]\n",
    "finals_fwb2.append([0,1.0,0.0,0.0])\n",
    "for i in range(T):\n",
    "  matrices=[inner_list[i] for inner_list in results_fwb2]\n",
    "  tl = np.expand_dims(true_labels[:1000], axis=-1)\n",
    "  td=np.expand_dims(matrices, axis=-1)\n",
    "  finals_fwb2.append([i+1,model.evaluate(td,tl)[1],np.max((matrices)-(random_correctly_predicted_inputs[:1000])),np.abs(np.mean((matrices)-(random_correctly_predicted_inputs[:1000])))])"
   ]
  },
  {
   "cell_type": "markdown",
   "id": "cb584cb1",
   "metadata": {
    "id": "DWxCQpzrthFe"
   },
   "source": [
    "# Mnist Acc-SZOFW"
   ]
  },
  {
   "cell_type": "code",
   "execution_count": 20,
   "id": "f3c5e23f",
   "metadata": {
    "id": "pmgbzRATtl82"
   },
   "outputs": [],
   "source": [
    "#finite-sum\n",
    "gg=np.arange(1000)\n",
    "d=28\n",
    "T=10\n",
    "epsilon = 0.3\n",
    "q=20\n",
    "b=1\n",
    "b1=300\n",
    "b2=20\n",
    "n=1\n",
    "mi=0.01\n",
    "eta=1/math.sqrt(T)\n",
    "beta=(1/d)*(1/math.sqrt(T))\n",
    "fs_setting=1\n",
    "setting2=1\n",
    "rgb=0\n",
    "start_time = time.process_time()\n",
    "results_acc_fs = [acc_szofw(random_correctly_predicted_inputs[i],err_labels[i],d, T,epsilon,q,b,b1,b2, n, mi,eta,beta, fs_setting, setting2,rgb) for i in gg]\n",
    "end_time = time.process_time()\n",
    "elapsed_time_acc_fs = end_time - start_time"
   ]
  },
  {
   "cell_type": "code",
   "execution_count": 21,
   "id": "0b78b75c",
   "metadata": {
    "colab": {
     "base_uri": "https://localhost:8080/",
     "height": 386
    },
    "id": "h5ldXbiQxKVs",
    "outputId": "7c0116fc-a63a-4f66-b8a3-90f75734c8bf"
   },
   "outputs": [
    {
     "data": {
      "image/png": "[encoded data removed]",
      "text/plain": [
       "<Figure size 640x480 with 2 Axes>"
      ]
     },
     "metadata": {},
     "output_type": "display_data"
    },
    {
     "name": "stdout",
     "output_type": "stream",
     "text": [
      "L-infinite norm of the difference: 0.2846049894151541\n",
      "1/1 [==============================] - 0s 27ms/step\n",
      "True Label: 1 Predicted Label: 8\n"
     ]
    }
   ],
   "source": [
    "figg, axx = plt.subplots(1,2)\n",
    "plt.gray()\n",
    "axx[0].imshow(random_correctly_predicted_inputs[100])\n",
    "axx[0].axis('off')\n",
    "axx[1].imshow(results_acc_fs[100][0])\n",
    "axx[1].axis('off')\n",
    "plt.tight_layout()\n",
    "plt.show()\n",
    "\n",
    "# Calculate the L-infinite norm of the difference matrix\n",
    "print(\"L-infinite norm of the difference: {}\".format(np.max(np.abs((results_acc_fs[100][0]) - (random_correctly_predicted_inputs[100])))))\n",
    "sample=np.expand_dims(results_acc_fs[100][0], axis=-1)\n",
    "sample=np.expand_dims(sample, axis=0)\n",
    "label = np.expand_dims(true_labels[100], axis=0)\n",
    "print(\"True Label: {} Predicted Label: {}\".format(np.argmax(true_labels[100]), np.argmax(model.predict(sample))))"
   ]
  },
  {
   "cell_type": "code",
   "execution_count": 22,
   "id": "d18e078c",
   "metadata": {
    "id": "7AF-fy9DIMg0"
   },
   "outputs": [],
   "source": [
    "#stochastic setting Cooge\n",
    "gg=np.arange(1000)\n",
    "d=28\n",
    "T=10\n",
    "epsilon = 0.3\n",
    "q=20\n",
    "b=1\n",
    "b1=300\n",
    "b2=20\n",
    "n=1\n",
    "mi=0.01\n",
    "eta=1/math.sqrt(T)\n",
    "beta=(1/d)*(1/math.sqrt(T))\n",
    "fs_setting=2\n",
    "setting2=1\n",
    "rgb=0\n",
    "start_time = time.process_time()\n",
    "results_acc_ss1 = [acc_szofw(random_correctly_predicted_inputs[i],err_labels[i],d, T,epsilon,q,b,b1,b2, n, mi,eta,beta, fs_setting, setting2,rgb) for i in gg]\n",
    "end_time = time.process_time()\n",
    "elapsed_time_acc_ss1 = end_time - start_time"
   ]
  },
  {
   "cell_type": "code",
   "execution_count": 23,
   "id": "aa33973c",
   "metadata": {
    "colab": {
     "base_uri": "https://localhost:8080/",
     "height": 386
    },
    "id": "2dNabdsWxSPn",
    "outputId": "e14757a6-dc99-4c90-e83d-5cd52fded85d"
   },
   "outputs": [
    {
     "data": {
      "image/png": "[encoded data removed]",
      "text/plain": [
       "<Figure size 640x480 with 2 Axes>"
      ]
     },
     "metadata": {},
     "output_type": "display_data"
    },
    {
     "name": "stdout",
     "output_type": "stream",
     "text": [
      "L-infinite norm of the difference: 0.2846049894151541\n",
      "1/1 [==============================] - 0s 31ms/step\n",
      "True Label: 1 Predicted Label: 8\n"
     ]
    }
   ],
   "source": [
    "figg, axx = plt.subplots(1,2)\n",
    "plt.gray()\n",
    "axx[0].imshow(random_correctly_predicted_inputs[100])\n",
    "axx[0].axis('off')\n",
    "axx[1].imshow(results_acc_ss1[100][0])\n",
    "axx[1].axis('off')\n",
    "plt.tight_layout()\n",
    "plt.show()\n",
    "\n",
    "# Calculate the L-infinite norm of the difference matrix\n",
    "print(\"L-infinite norm of the difference: {}\".format(np.max(np.abs((results_acc_ss1[100][0]) - (random_correctly_predicted_inputs[100])))))\n",
    "sample=np.expand_dims(results_acc_ss1[100][0], axis=-1)\n",
    "sample=np.expand_dims(sample, axis=0)\n",
    "label = np.expand_dims(true_labels[100], axis=0)\n",
    "print(\"True Label: {} Predicted Label: {}\".format(np.argmax(true_labels[100]), np.argmax(model.predict(sample))))"
   ]
  },
  {
   "cell_type": "code",
   "execution_count": 24,
   "id": "dd4aa34f",
   "metadata": {
    "id": "nicKOSltINHn"
   },
   "outputs": [],
   "source": [
    "#stochastic setting Unige\n",
    "gg=np.arange(1000)\n",
    "d=28\n",
    "T=10\n",
    "epsilon = 0.3\n",
    "q=20\n",
    "b=1\n",
    "b1=300\n",
    "b2=20\n",
    "n=1\n",
    "mi=0.01\n",
    "eta=1/math.sqrt(T)\n",
    "beta=(1/d)*(1/math.sqrt(T))\n",
    "fs_setting=2\n",
    "setting2=2\n",
    "rgb=0\n",
    "start_time = time.process_time()\n",
    "results_acc_ss2 = [acc_szofw(random_correctly_predicted_inputs[i],err_labels[i],d, T,epsilon,q,b,b1,b2, n, mi,eta,beta, fs_setting, setting2,rgb) for i in gg]\n",
    "end_time = time.process_time()\n",
    "elapsed_time_acc_ss2 = end_time - start_time"
   ]
  },
  {
   "cell_type": "code",
   "execution_count": 25,
   "id": "50582e0b",
   "metadata": {
    "colab": {
     "base_uri": "https://localhost:8080/",
     "height": 386
    },
    "id": "22S51qWHxWZD",
    "outputId": "e303ceca-0b2a-4059-b6fc-6d8a76a1be19"
   },
   "outputs": [
    {
     "data": {
      "image/png": "[encoded data removed]",
      "text/plain": [
       "<Figure size 640x480 with 2 Axes>"
      ]
     },
     "metadata": {},
     "output_type": "display_data"
    },
    {
     "name": "stdout",
     "output_type": "stream",
     "text": [
      "L-infinite norm of the difference: 0.2846049894151541\n",
      "1/1 [==============================] - 0s 31ms/step\n",
      "True Label: 1 Predicted Label: 8\n"
     ]
    }
   ],
   "source": [
    "figg, axx = plt.subplots(1,2)\n",
    "plt.gray()\n",
    "axx[0].imshow(random_correctly_predicted_inputs[100])\n",
    "axx[0].axis('off')\n",
    "axx[1].imshow(results_acc_ss2[100][0])\n",
    "axx[1].axis('off')\n",
    "plt.tight_layout()\n",
    "plt.show()\n",
    "\n",
    "# Calculate the L-infinite norm of the difference matrix\n",
    "print(\"L-infinite norm of the difference: {}\".format(np.max(np.abs((results_acc_ss2[100][0]) - (random_correctly_predicted_inputs[100])))))\n",
    "sample=np.expand_dims(results_acc_ss2[100][0], axis=-1)\n",
    "sample=np.expand_dims(sample, axis=0)\n",
    "label = np.expand_dims(true_labels[100], axis=0)\n",
    "print(\"True Label: {} Predicted Label: {}\".format(np.argmax(true_labels[100]), np.argmax(model.predict(sample))))"
   ]
  },
  {
   "cell_type": "code",
   "execution_count": 26,
   "id": "9d01e28e",
   "metadata": {
    "colab": {
     "base_uri": "https://localhost:8080/"
    },
    "id": "2Zbb8luTIYsM",
    "outputId": "4c4b3ccd-8324-42bb-df8e-ca0de9b1510f"
   },
   "outputs": [
    {
     "name": "stdout",
     "output_type": "stream",
     "text": [
      "313/313 [==============================] - 1s 4ms/step - loss: 0.0272 - accuracy: 0.9912\n",
      "32/32 [==============================] - 0s 6ms/step - loss: 7.5209 - accuracy: 0.0370\n",
      "32/32 [==============================] - 0s 6ms/step - loss: 7.6600 - accuracy: 0.0340\n",
      "32/32 [==============================] - 0s 4ms/step - loss: 7.7522 - accuracy: 0.0330\n",
      "32/32 [==============================] - 0s 4ms/step - loss: 7.8085 - accuracy: 0.0320\n",
      "32/32 [==============================] - 0s 4ms/step - loss: 7.8537 - accuracy: 0.0310\n",
      "32/32 [==============================] - 0s 4ms/step - loss: 7.8682 - accuracy: 0.0320\n",
      "32/32 [==============================] - 0s 4ms/step - loss: 7.8925 - accuracy: 0.0300\n",
      "32/32 [==============================] - 0s 4ms/step - loss: 7.9176 - accuracy: 0.0280\n",
      "32/32 [==============================] - 0s 4ms/step - loss: 7.9256 - accuracy: 0.0310\n",
      "32/32 [==============================] - 0s 4ms/step - loss: 7.9430 - accuracy: 0.0280\n",
      "313/313 [==============================] - 1s 3ms/step - loss: 0.0272 - accuracy: 0.9912\n",
      "32/32 [==============================] - 0s 4ms/step - loss: 0.8746 - accuracy: 0.7330\n",
      "32/32 [==============================] - 0s 4ms/step - loss: 0.9168 - accuracy: 0.7230\n",
      "32/32 [==============================] - 0s 4ms/step - loss: 0.9431 - accuracy: 0.7190\n",
      "32/32 [==============================] - 0s 4ms/step - loss: 0.9560 - accuracy: 0.7070\n",
      "32/32 [==============================] - 0s 5ms/step - loss: 0.9748 - accuracy: 0.7070\n",
      "32/32 [==============================] - 0s 4ms/step - loss: 0.9788 - accuracy: 0.7060\n",
      "32/32 [==============================] - 0s 4ms/step - loss: 0.9860 - accuracy: 0.7010\n",
      "32/32 [==============================] - 0s 4ms/step - loss: 0.9927 - accuracy: 0.7020\n",
      "32/32 [==============================] - 0s 4ms/step - loss: 0.9950 - accuracy: 0.6970\n",
      "32/32 [==============================] - 0s 4ms/step - loss: 1.0038 - accuracy: 0.6970\n",
      "313/313 [==============================] - 1s 3ms/step - loss: 0.0272 - accuracy: 0.9912\n",
      "32/32 [==============================] - 0s 4ms/step - loss: 2.4876 - accuracy: 0.3910\n",
      "32/32 [==============================] - 0s 4ms/step - loss: 2.5779 - accuracy: 0.3810\n",
      "32/32 [==============================] - 0s 4ms/step - loss: 2.6371 - accuracy: 0.3690\n",
      "32/32 [==============================] - 0s 4ms/step - loss: 2.6713 - accuracy: 0.3710\n",
      "32/32 [==============================] - 0s 4ms/step - loss: 2.7080 - accuracy: 0.3650\n",
      "32/32 [==============================] - 0s 4ms/step - loss: 2.7240 - accuracy: 0.3590\n",
      "32/32 [==============================] - 0s 4ms/step - loss: 2.7393 - accuracy: 0.3590\n",
      "32/32 [==============================] - 0s 4ms/step - loss: 2.7492 - accuracy: 0.3550\n",
      "32/32 [==============================] - 0s 4ms/step - loss: 2.7578 - accuracy: 0.3600\n",
      "32/32 [==============================] - 0s 4ms/step - loss: 2.7677 - accuracy: 0.3570\n"
     ]
    }
   ],
   "source": [
    "finals_acc_fs=[]\n",
    "finals_acc_fs.append([0,model.evaluate(test_data,test_labels)[1],0.0,0.0])\n",
    "for i in range(T):\n",
    "  matrices=[inner_list[i] for inner_list in results_acc_fs]\n",
    "  tl = np.expand_dims(true_labels[:1000], axis=-1)\n",
    "  td=np.expand_dims(matrices, axis=-1)\n",
    "  finals_acc_fs.append([i+1,model.evaluate(td,tl)[1],np.max((matrices)-(random_correctly_predicted_inputs[:1000])),np.abs(np.mean((matrices)-(random_correctly_predicted_inputs[:1000])))])\n",
    "\n",
    "finals_acc_ss1=[]\n",
    "finals_acc_ss1.append([0,model.evaluate(test_data,test_labels)[1],0.0,0.0])\n",
    "for i in range(T):\n",
    "  matrices=[inner_list[i] for inner_list in results_acc_ss1]\n",
    "  tl = np.expand_dims(true_labels[:1000], axis=-1)\n",
    "  td=np.expand_dims(matrices, axis=-1)\n",
    "  finals_acc_ss1.append([i+1,model.evaluate(td,tl)[1],np.max((matrices)-(random_correctly_predicted_inputs[:1000])),np.abs(np.mean((matrices)-(random_correctly_predicted_inputs[:1000])))])\n",
    "\n",
    "finals_acc_ss2=[]\n",
    "finals_acc_ss2.append([0,model.evaluate(test_data,test_labels)[1],0.0,0.0])\n",
    "for i in range(T):\n",
    "  matrices=[inner_list[i] for inner_list in results_acc_ss2]\n",
    "  tl = np.expand_dims(true_labels[:1000], axis=-1)\n",
    "  td=np.expand_dims(matrices, axis=-1)\n",
    "  finals_acc_ss2.append([i+1,model.evaluate(td,tl)[1],np.max((matrices)-(random_correctly_predicted_inputs[:1000])),np.abs(np.mean((matrices)-(random_correctly_predicted_inputs[:1000])))])"
   ]
  },
  {
   "cell_type": "code",
   "execution_count": 29,
   "id": "4fb76490",
   "metadata": {
    "colab": {
     "base_uri": "https://localhost:8080/",
     "height": 407
    },
    "id": "XbsQ_nGUvEe-",
    "outputId": "ce631ae4-3771-4b52-f2bd-7ffc7fe2658d"
   },
   "outputs": [
    {
     "data": {
      "image/png": "[encoded data removed]",
      "text/plain": [
       "<Figure size 1200x400 with 3 Axes>"
      ]
     },
     "metadata": {},
     "output_type": "display_data"
    }
   ],
   "source": [
    "iter = [item[0] for item in finals_fwb1]\n",
    "fwb1_values = [item[1] for item in finals_fwb1]\n",
    "fwb2_values = [item[1] for item in finals_fwb2]\n",
    "acc_fs_values = [item[1] for item in finals_acc_fs]\n",
    "acc_ss1_values = [item[1] for item in finals_acc_ss1]\n",
    "acc_ss2_values = [item[1] for item in finals_acc_ss2]\n",
    "\n",
    "fwb1_d = [item[2] for item in finals_fwb1]\n",
    "fwb2_d = [item[2] for item in finals_fwb2]\n",
    "acc_fs_d = [item[2] for item in finals_acc_fs]\n",
    "acc_ss1_d = [item[2] for item in finals_acc_ss1]\n",
    "acc_ss2_d = [item[2] for item in finals_acc_ss2]\n",
    "\n",
    "fwb1_dd = [item[3] for item in finals_fwb1]\n",
    "fwb2_dd = [item[3] for item in finals_fwb2]\n",
    "acc_fs_dd = [item[3] for item in finals_acc_fs]\n",
    "acc_ss1_dd = [item[3] for item in finals_acc_ss1]\n",
    "acc_ss2_dd = [item[3] for item in finals_acc_ss2]\n",
    "\n",
    "# Creating subplots\n",
    "fig, (ax1, ax2, ax3) = plt.subplots(1, 3, figsize=(12, 4))\n",
    "# Plotting first subplot\n",
    "ax1.plot(iter, fwb1_values, linestyle='-', color='b',label='FW-Black Eucli')\n",
    "ax1.plot(iter, fwb2_values, linestyle='-', color='g',label='FW-Black Gauge')\n",
    "ax1.plot(iter, acc_fs_values, linestyle='-', color='y',label='ACC-ZOFW')\n",
    "ax1.plot(iter, acc_ss1_values, linestyle='-', color='m',label='ACC-SZOFW Cooge')\n",
    "ax1.plot(iter, acc_ss2_values, linestyle='-', color='c',label='ACC-SZOFW Unige')\n",
    "ax1.set_xlabel('Iteration')\n",
    "ax1.set_ylabel('Accuracy')\n",
    "ax1.set_title('Accuracy Decrease')\n",
    "ax1.grid(True)\n",
    "ax1.legend(loc='upper right',fontsize=6.5)\n",
    "\n",
    "# Plotting second subplot\n",
    "ax2.plot(iter, fwb1_d,  linestyle='-', color='b')\n",
    "ax2.plot(iter, fwb2_d,  linestyle='-', color='g')\n",
    "ax2.plot(iter, acc_fs_d,  linestyle='-', color='y')\n",
    "ax2.plot(iter, acc_ss1_d,  linestyle='-', color='m')\n",
    "ax2.plot(iter, acc_ss2_d,  linestyle='-', color='c')\n",
    "ax2.set_xlabel('Iteration')\n",
    "ax2.set_ylabel('Distance')\n",
    "ax2.set_title('Maximum Distance')\n",
    "ax2.grid(True)\n",
    "\n",
    "# Plotting third subplot\n",
    "ax3.plot(iter, fwb1_dd,  linestyle='-', color='b')\n",
    "ax3.plot(iter, fwb2_dd,  linestyle='-', color='g')\n",
    "ax3.plot(iter, acc_fs_dd,  linestyle='-', color='y')\n",
    "ax3.plot(iter, acc_ss1_dd,  linestyle='-', color='m')\n",
    "ax3.plot(iter, acc_ss2_dd,  linestyle='-', color='c')\n",
    "ax3.set_xlabel('Iteration')\n",
    "ax3.set_ylabel('Distance')\n",
    "ax3.set_title('Mean Distance')\n",
    "ax3.grid(True)\n",
    "\n",
    "# Adjusting layout and showing the plots\n",
    "plt.tight_layout()\n",
    "plt.show()"
   ]
  },
  {
   "cell_type": "code",
   "execution_count": 28,
   "id": "96b4af10",
   "metadata": {
    "colab": {
     "base_uri": "https://localhost:8080/"
    },
    "id": "Ok8Xek4wZej5",
    "outputId": "5d90e0fc-47af-4ec9-cc83-f59d2da998ec"
   },
   "outputs": [
    {
     "name": "stdout",
     "output_type": "stream",
     "text": [
      "FWBB Euclidean - Final Accuracy: 0.7540000081062317 - Mean Distance: 0.003762072422885018 - Max Distance: 0.29900271151407476 - Time: 187.350802525\n",
      "FWBB Gaussian - Final Accuracy: 0.7680000066757202 - Mean Distance: 0.002615721843935429 - Max Distance: 0.29900271151407476 - Time: 186.42590001999997\n",
      "AccZOFW FS - Final Accuracy: 0.02800000086426735 - Mean Distance: 0.005410238804836798 - Max Distance: 0.29991266695655017 - Time: 507.424586736\n",
      "AccSZOFW Cooge - Final Accuracy: 0.6970000267028809 - Mean Distance: 0.0019616788844740323 - Max Distance: 0.29991266695655017 - Time: 510.5133917589999\n",
      "AccSZOFW Unige - Final Accuracy: 0.3569999933242798 - Mean Distance: 0.0054437827871345445 - Max Distance: 0.29991266695655017 - Time: 324.2159805419999\n"
     ]
    }
   ],
   "source": [
    "print(\"FWBB Euclidean - Final Accuracy: {} - Mean Distance: {} - Max Distance: {} - Time: {}\".format(fwb1_values[-1],fwb1_dd[-1],fwb1_d[-1],elapsed_time_fwb1))\n",
    "print(\"FWBB Gaussian - Final Accuracy: {} - Mean Distance: {} - Max Distance: {} - Time: {}\".format(fwb2_values[-1],fwb2_dd[-1],fwb2_d[-1],elapsed_time_fwb2))\n",
    "print(\"AccZOFW FS - Final Accuracy: {} - Mean Distance: {} - Max Distance: {} - Time: {}\".format(acc_fs_values[-1],acc_fs_dd[-1],acc_fs_d[-1],elapsed_time_acc_fs))\n",
    "print(\"AccSZOFW Cooge - Final Accuracy: {} - Mean Distance: {} - Max Distance: {} - Time: {}\".format(acc_ss1_values[-1],acc_ss1_dd[-1],acc_ss1_d[-1],elapsed_time_acc_ss1))\n",
    "print(\"AccSZOFW Unige - Final Accuracy: {} - Mean Distance: {} - Max Distance: {} - Time: {}\".format(acc_ss2_values[-1],acc_ss2_dd[-1],acc_ss2_d[-1],elapsed_time_acc_ss2))"
   ]
  },
  {
   "cell_type": "markdown",
   "id": "607cfb2d",
   "metadata": {
    "id": "J28IRwJgyS6C"
   },
   "source": [
    "# Cifar10 Dataset and Model"
   ]
  },
  {
   "cell_type": "code",
   "execution_count": 30,
   "id": "bc69806e",
   "metadata": {
    "colab": {
     "base_uri": "https://localhost:8080/",
     "height": 205
    },
    "id": "aVoRG7IszAuQ",
    "outputId": "23ec6227-01f3-45c9-aea8-2a7ccad747cd"
   },
   "outputs": [
    {
     "name": "stdout",
     "output_type": "stream",
     "text": [
      "Downloading data from https://www.cs.toronto.edu/~kriz/cifar-10-python.tar.gz\n",
      "170498071/170498071 [==============================] - 4s 0us/step\n"
     ]
    },
    {
     "data": {
      "image/png": "[encoded data removed]",
      "text/plain": [
       "<Figure size 1000x200 with 5 Axes>"
      ]
     },
     "metadata": {},
     "output_type": "display_data"
    }
   ],
   "source": [
    "import tensorflow as tf\n",
    "import cv2\n",
    "# Load CIFAR-10 dataset\n",
    "(train_data_or, train_labels_or), (test_data_or, test_labels_or) = tf.keras.datasets.cifar10.load_data()\n",
    "\n",
    "##x_train_gray = []\n",
    "##for img in train_data_or:\n",
    "#    gray_img = cv2.cvtColor(img, cv2.COLOR_RGB2GRAY)\n",
    " #   x_train_gray.append(gray_img)\n",
    "#x_train_gray = np.array(x_train_gray)\n",
    "#x_test_gray = []\n",
    "#for img in test_data_or:\n",
    "#    gray_img = cv2.cvtColor(img, cv2.COLOR_RGB2GRAY)\n",
    "#    x_test_gray.append(gray_img)\n",
    "#x_test_gray = np.array(x_test_gray)\n",
    "plt.figure(figsize=(10, 2))\n",
    "for i in range(5):\n",
    "    plt.subplot(1, 5, i + 1)\n",
    "    plt.imshow(train_data_or[i], cmap='gray')\n",
    "    plt.axis('off')\n",
    "plt.show()\n",
    "\n",
    "train_data = train_data_or.astype('float32') / 255.0 #Normalize pixels in range [0, 1]\n",
    "test_data = test_data_or.astype('float32') / 255.0\n",
    "train_data = np.expand_dims(train_data, axis=-1) #Expand the shape\n",
    "test_data = np.expand_dims(test_data, axis=-1)\n",
    "num_classes = 10 #from each label get an array e.g. label=5 -> [0,0,0,0,0,1,0,0,0,0]\n",
    "train_labels = to_categorical(train_labels_or, num_classes)\n",
    "test_labels = to_categorical(test_labels_or, num_classes)"
   ]
  },
  {
   "cell_type": "code",
   "execution_count": 31,
   "id": "edddbc46",
   "metadata": {
    "id": "-l-URJjW2OAo"
   },
   "outputs": [],
   "source": [
    "#Create a model as described in the papers (6 layers CNN with 4 convolutional layers followed by 2 dense layers with max-pooling and Relu activations)\n",
    "model = Sequential()\n",
    "model.add(layers.Conv2D(32, (3, 3), activation='relu', input_shape=(32, 32, 3), padding='same'))# First Convolutional Layer\n",
    "model.add(MaxPool2D(2,2))\n",
    "model.add(layers.Conv2D(64, (3, 3), activation='relu', padding='same'))# Second Convolutional Layer\n",
    "model.add(MaxPool2D(2,2))\n",
    "model.add(layers.Conv2D(128, (3, 3), activation='relu', padding='same'))# Third Convolutional Layer\n",
    "model.add(MaxPool2D(2,2))\n",
    "model.add(layers.Conv2D(256, (3, 3), activation='relu', padding='same'))# Fourth Convolutional Layer\n",
    "model.add(MaxPool2D(2,2))\n",
    "model.add(layers.Flatten())# Flatten the output for the Dense layers\n",
    "model.add(layers.Dense(512, activation='relu'))# First Dense Layer\n",
    "model.add(layers.Dense(256, activation='relu'))# Second Dense Layer\n",
    "model.add(layers.Dense(num_classes, activation='softmax'))#Output layer\n",
    "# Compile the model, use categorical cross entropy since we have multiple labels\n",
    "model.compile(optimizer='adam',\n",
    "              loss='categorical_crossentropy',\n",
    "              metrics=['accuracy'])"
   ]
  },
  {
   "cell_type": "code",
   "execution_count": 32,
   "id": "4e364454",
   "metadata": {
    "colab": {
     "base_uri": "https://localhost:8080/"
    },
    "id": "NpNIdYxnz9U1",
    "outputId": "3bddf40a-3014-46ea-ddd9-603b6bba70f1"
   },
   "outputs": [
    {
     "name": "stdout",
     "output_type": "stream",
     "text": [
      "Epoch 1/20\n",
      "40/40 [==============================] - 6s 52ms/step - loss: 1.9762 - accuracy: 0.2645 - val_loss: 1.6851 - val_accuracy: 0.3842\n",
      "Epoch 2/20\n",
      "40/40 [==============================] - 2s 41ms/step - loss: 1.5847 - accuracy: 0.4204 - val_loss: 1.4832 - val_accuracy: 0.4651\n",
      "Epoch 3/20\n",
      "40/40 [==============================] - 2s 47ms/step - loss: 1.4141 - accuracy: 0.4846 - val_loss: 1.3355 - val_accuracy: 0.5114\n",
      "Epoch 4/20\n",
      "40/40 [==============================] - 2s 42ms/step - loss: 1.2880 - accuracy: 0.5334 - val_loss: 1.2278 - val_accuracy: 0.5574\n",
      "Epoch 5/20\n",
      "40/40 [==============================] - 2s 40ms/step - loss: 1.1982 - accuracy: 0.5691 - val_loss: 1.1620 - val_accuracy: 0.5868\n",
      "Epoch 6/20\n",
      "40/40 [==============================] - 2s 40ms/step - loss: 1.1055 - accuracy: 0.6070 - val_loss: 1.0899 - val_accuracy: 0.6092\n",
      "Epoch 7/20\n",
      "40/40 [==============================] - 2s 41ms/step - loss: 1.0371 - accuracy: 0.6314 - val_loss: 1.1014 - val_accuracy: 0.6006\n",
      "Epoch 8/20\n",
      "40/40 [==============================] - 2s 41ms/step - loss: 0.9591 - accuracy: 0.6614 - val_loss: 0.9716 - val_accuracy: 0.6603\n",
      "Epoch 9/20\n",
      "40/40 [==============================] - 2s 41ms/step - loss: 0.9025 - accuracy: 0.6787 - val_loss: 0.9612 - val_accuracy: 0.6606\n",
      "Epoch 10/20\n",
      "40/40 [==============================] - 2s 43ms/step - loss: 0.8265 - accuracy: 0.7080 - val_loss: 0.9482 - val_accuracy: 0.6640\n",
      "Epoch 11/20\n",
      "40/40 [==============================] - 2s 43ms/step - loss: 0.7705 - accuracy: 0.7283 - val_loss: 0.8781 - val_accuracy: 0.6985\n",
      "Epoch 12/20\n",
      "40/40 [==============================] - 2s 42ms/step - loss: 0.7374 - accuracy: 0.7414 - val_loss: 0.9273 - val_accuracy: 0.6805\n",
      "Epoch 13/20\n",
      "40/40 [==============================] - 2s 41ms/step - loss: 0.6821 - accuracy: 0.7594 - val_loss: 0.8940 - val_accuracy: 0.6941\n",
      "Epoch 14/20\n",
      "40/40 [==============================] - 2s 42ms/step - loss: 0.6342 - accuracy: 0.7754 - val_loss: 0.8583 - val_accuracy: 0.7092\n",
      "Epoch 15/20\n",
      "40/40 [==============================] - 2s 41ms/step - loss: 0.5884 - accuracy: 0.7935 - val_loss: 0.8517 - val_accuracy: 0.7086\n",
      "Epoch 16/20\n",
      "40/40 [==============================] - 2s 41ms/step - loss: 0.5442 - accuracy: 0.8075 - val_loss: 0.8637 - val_accuracy: 0.7108\n",
      "Epoch 17/20\n",
      "40/40 [==============================] - 2s 46ms/step - loss: 0.4886 - accuracy: 0.8294 - val_loss: 0.8284 - val_accuracy: 0.7265\n",
      "Epoch 18/20\n",
      "40/40 [==============================] - 2s 43ms/step - loss: 0.4436 - accuracy: 0.8448 - val_loss: 0.8383 - val_accuracy: 0.7217\n",
      "Epoch 19/20\n",
      "40/40 [==============================] - 2s 41ms/step - loss: 0.3879 - accuracy: 0.8674 - val_loss: 0.8902 - val_accuracy: 0.7215\n",
      "Epoch 20/20\n",
      "40/40 [==============================] - 2s 42ms/step - loss: 0.3700 - accuracy: 0.8696 - val_loss: 0.9433 - val_accuracy: 0.7131\n",
      "313/313 [==============================] - 1s 4ms/step - loss: 0.9505 - accuracy: 0.7083\n"
     ]
    },
    {
     "data": {
      "text/plain": [
       "[0.9505248069763184, 0.708299994468689]"
      ]
     },
     "execution_count": 32,
     "metadata": {},
     "output_type": "execute_result"
    }
   ],
   "source": [
    "model.fit(train_data, train_labels, epochs=20, batch_size=1000, validation_split=0.2)#train model on Mnist using validation set\n",
    "model.evaluate(test_data,test_labels) #Evaluate the trained model on test set and get accuracy"
   ]
  },
  {
   "cell_type": "code",
   "execution_count": 33,
   "id": "bd309a59",
   "metadata": {
    "colab": {
     "base_uri": "https://localhost:8080/"
    },
    "id": "341-wMVt6Zza",
    "outputId": "56f77ae7-9b41-4f34-afaa-71e59160d3d6"
   },
   "outputs": [
    {
     "name": "stdout",
     "output_type": "stream",
     "text": [
      "313/313 [==============================] - 1s 2ms/step\n"
     ]
    }
   ],
   "source": [
    "#get the indices of the correctly classified samples of the test set\n",
    "predictions = model.predict(test_data)#get predictions\n",
    "correctly_predicted_indices = np.argmax(predictions, axis=1) == np.argmax(test_labels, axis=1)#get indices of correct predictions\n",
    "correctly_predicted_inputs = test_data_or[correctly_predicted_indices]#keep only pixels and labels of correct predictions\n",
    "correctly_predicted_labels = np.argmax(test_labels[correctly_predicted_indices], axis=1)\n",
    "\n",
    "# Randomly select 100 samples and generate a fake target class for each image\n",
    "num_samples_to_select = 100\n",
    "np.random.seed(42)\n",
    "random_indices = np.random.choice(correctly_predicted_inputs.shape[0], num_samples_to_select, replace=False)#get random indices\n",
    "\n",
    "random_correctly_predicted_inputs = correctly_predicted_inputs[random_indices]#get 1000 of the correctly predicted samples\n",
    "\n",
    "#x_train_gray = []\n",
    "#for img in random_correctly_predicted_inputs:\n",
    "#    gray_img = cv2.cvtColor(img, cv2.COLOR_RGB2GRAY)\n",
    "#    x_train_gray.append(gray_img)\n",
    "#x_train_gray = np.array(x_train_gray)\n",
    "\n",
    "random_correctly_predicted_inputs = random_correctly_predicted_inputs.astype('float32') / 255.0\n",
    "random_correctly_predicted_labels = correctly_predicted_labels[random_indices] #get the corresponding true labels\n",
    "random_errate_predicted_labels=np.random.randint(9, size=len(random_correctly_predicted_labels))#generate 1000 fake target labels in [0,9]\n",
    "#while we still have some fake labels equal to the true labels (because of random sampling) for these samples generate new fake labels\n",
    "while(np.sum(random_errate_predicted_labels==random_correctly_predicted_labels)):\n",
    "    random_errate_predicted_labels[np.where(random_correctly_predicted_labels==random_errate_predicted_labels)[0]]=np.random.randint(9)\n",
    "\n",
    "true_labels = to_categorical(random_correctly_predicted_labels, num_classes)\n",
    "err_labels = to_categorical(random_errate_predicted_labels, num_classes)"
   ]
  },
  {
   "cell_type": "markdown",
   "id": "c4ba78d5",
   "metadata": {
    "id": "DiQ_-5FPAaTl"
   },
   "source": [
    "# Cifar10 FWBB"
   ]
  },
  {
   "cell_type": "code",
   "execution_count": 34,
   "id": "64932f01",
   "metadata": {
    "id": "aBONG8cUAb0g"
   },
   "outputs": [],
   "source": [
    "#euclidean sphere\n",
    "gg = np.arange(100)\n",
    "d = 32\n",
    "T = 10\n",
    "epsilon = 0.1\n",
    "y_step = 0.8\n",
    "b = 25\n",
    "sigma = 0.01\n",
    "beta = 0.99\n",
    "opt = 1\n",
    "rgb=1\n",
    "start_time = time.process_time()\n",
    "results_fwb1 = [frank_wolfe_bb(random_correctly_predicted_inputs[i],err_labels[i], d,T,epsilon,y_step,b,sigma,beta,opt,rgb) for i in gg]\n",
    "end_time = time.process_time()\n",
    "elapsed_time_fwb1 = end_time - start_time"
   ]
  },
  {
   "cell_type": "code",
   "execution_count": 35,
   "id": "84741b89",
   "metadata": {
    "colab": {
     "base_uri": "https://localhost:8080/",
     "height": 124
    },
    "id": "yz9fKc7fnYlI",
    "outputId": "3237b6c6-5064-489e-b52f-f2e5c7531dab"
   },
   "outputs": [
    {
     "name": "stderr",
     "output_type": "stream",
     "text": [
      "WARNING:matplotlib.image:Clipping input data to the valid range for imshow with RGB data ([0..1] for floats or [0..255] for integers).\n"
     ]
    },
    {
     "data": {
      "image/png": "[encoded data removed]",
      "text/plain": [
       "<Figure size 640x480 with 2 Axes>"
      ]
     },
     "metadata": {},
     "output_type": "display_data"
    },
    {
     "name": "stdout",
     "output_type": "stream",
     "text": [
      "L-infinite norm of the difference: 0.08000000000000007\n",
      "1/1 [==============================] - 0s 154ms/step\n",
      "True Label: 1 Predicted Label: 9\n"
     ]
    }
   ],
   "source": [
    "figg, axx = plt.subplots(1,2)\n",
    "plt.gray()\n",
    "axx[0].imshow(random_correctly_predicted_inputs[0])\n",
    "axx[0].axis('off')\n",
    "axx[1].imshow(results_fwb1[0][0])\n",
    "axx[1].axis('off')\n",
    "plt.tight_layout()\n",
    "plt.show()\n",
    "print(\"L-infinite norm of the difference: {}\".format(np.max(np.abs((results_fwb1[0][0]) - (random_correctly_predicted_inputs[0])))))\n",
    "sample=np.expand_dims(results_fwb1[0][0], axis=-1)\n",
    "sample=np.expand_dims(sample, axis=0)\n",
    "label = np.expand_dims(true_labels[0], axis=0)\n",
    "print(\"True Label: {} Predicted Label: {}\".format(np.argmax(true_labels[0]), np.argmax(model.predict(sample))))"
   ]
  },
  {
   "cell_type": "code",
   "execution_count": 36,
   "id": "05736e5d",
   "metadata": {
    "id": "RAt-JwrQAIa3"
   },
   "outputs": [],
   "source": [
    "#Gaussian distribution\n",
    "gg = np.arange(100)\n",
    "d = 32\n",
    "T = 10\n",
    "epsilon = 0.1\n",
    "y_step = 0.8\n",
    "b = 25\n",
    "sigma = 0.01\n",
    "beta = 0.99\n",
    "opt = 2\n",
    "rgb=1\n",
    "start_time = time.process_time()\n",
    "results_fwb2 = [frank_wolfe_bb(random_correctly_predicted_inputs[i],err_labels[i], d,T,epsilon,y_step,b,sigma,beta,opt,rgb) for i in gg]\n",
    "end_time = time.process_time()\n",
    "elapsed_time_fwb2 = end_time - start_time"
   ]
  },
  {
   "cell_type": "code",
   "execution_count": 37,
   "id": "37fde8fc",
   "metadata": {
    "colab": {
     "base_uri": "https://localhost:8080/",
     "height": 124
    },
    "id": "BHPLrxDincob",
    "outputId": "b86a4515-c27c-4f20-ee2d-f12922d11fe7"
   },
   "outputs": [
    {
     "name": "stderr",
     "output_type": "stream",
     "text": [
      "WARNING:matplotlib.image:Clipping input data to the valid range for imshow with RGB data ([0..1] for floats or [0..255] for integers).\n"
     ]
    },
    {
     "data": {
      "image/png": "[encoded data removed]",
      "text/plain": [
       "<Figure size 640x480 with 2 Axes>"
      ]
     },
     "metadata": {},
     "output_type": "display_data"
    },
    {
     "name": "stdout",
     "output_type": "stream",
     "text": [
      "L-infinite norm of the difference: 0.08000000000000007\n",
      "1/1 [==============================] - 0s 27ms/step\n",
      "True Label: 1 Predicted Label: 9\n"
     ]
    }
   ],
   "source": [
    "figg, axx = plt.subplots(1,2)\n",
    "plt.gray()\n",
    "axx[0].imshow(random_correctly_predicted_inputs[0])\n",
    "axx[0].axis('off')\n",
    "axx[1].imshow(results_fwb2[0][0])\n",
    "axx[1].axis('off')\n",
    "plt.tight_layout()\n",
    "plt.show()\n",
    "print(\"L-infinite norm of the difference: {}\".format(np.max(np.abs((results_fwb2[0][0]) - (random_correctly_predicted_inputs[0])))))\n",
    "sample=np.expand_dims(results_fwb2[0][0], axis=-1)\n",
    "sample=np.expand_dims(sample, axis=0)\n",
    "label = np.expand_dims(true_labels[0], axis=0)\n",
    "print(\"True Label: {} Predicted Label: {}\".format(np.argmax(true_labels[0]), np.argmax(model.predict(sample))))"
   ]
  },
  {
   "cell_type": "code",
   "execution_count": 38,
   "id": "d69ad003",
   "metadata": {
    "colab": {
     "base_uri": "https://localhost:8080/"
    },
    "id": "uNTw8zrgA-Mx",
    "outputId": "cae91f93-92b7-4015-83ec-ee3c6a61b81c"
   },
   "outputs": [
    {
     "name": "stdout",
     "output_type": "stream",
     "text": [
      "313/313 [==============================] - 1s 3ms/step - loss: 0.9505 - accuracy: 0.7083\n",
      "4/4 [==============================] - 1s 51ms/step - loss: 3.1483 - accuracy: 0.3400\n",
      "4/4 [==============================] - 0s 8ms/step - loss: 4.0929 - accuracy: 0.3100\n",
      "4/4 [==============================] - 0s 6ms/step - loss: 4.4311 - accuracy: 0.3000\n",
      "4/4 [==============================] - 0s 5ms/step - loss: 4.5789 - accuracy: 0.2900\n",
      "4/4 [==============================] - 0s 5ms/step - loss: 4.6489 - accuracy: 0.2700\n",
      "4/4 [==============================] - 0s 6ms/step - loss: 4.6822 - accuracy: 0.2700\n",
      "4/4 [==============================] - 0s 5ms/step - loss: 4.6830 - accuracy: 0.2600\n",
      "4/4 [==============================] - 0s 6ms/step - loss: 4.6735 - accuracy: 0.2600\n",
      "4/4 [==============================] - 0s 6ms/step - loss: 4.6582 - accuracy: 0.2700\n",
      "4/4 [==============================] - 0s 5ms/step - loss: 4.6371 - accuracy: 0.2700\n",
      "313/313 [==============================] - 1s 3ms/step - loss: 0.9505 - accuracy: 0.7083\n",
      "4/4 [==============================] - 0s 5ms/step - loss: 3.1218 - accuracy: 0.3800\n",
      "4/4 [==============================] - 0s 5ms/step - loss: 4.0274 - accuracy: 0.3000\n",
      "4/4 [==============================] - 0s 6ms/step - loss: 4.3503 - accuracy: 0.2500\n",
      "4/4 [==============================] - 0s 5ms/step - loss: 4.4918 - accuracy: 0.2400\n",
      "4/4 [==============================] - 0s 5ms/step - loss: 4.5430 - accuracy: 0.2300\n",
      "4/4 [==============================] - 0s 5ms/step - loss: 4.5764 - accuracy: 0.2300\n",
      "4/4 [==============================] - 0s 5ms/step - loss: 4.5836 - accuracy: 0.2300\n",
      "4/4 [==============================] - 0s 5ms/step - loss: 4.5941 - accuracy: 0.2300\n",
      "4/4 [==============================] - 0s 5ms/step - loss: 4.5847 - accuracy: 0.2300\n",
      "4/4 [==============================] - 0s 5ms/step - loss: 4.5704 - accuracy: 0.2300\n"
     ]
    }
   ],
   "source": [
    "#Obtain a list of tuples (iteration T, accuracy at iteration T, L-infinite norm of distance at iteration T)\n",
    "finals_fwb1=[]\n",
    "finals_fwb1.append([0,model.evaluate(test_data,test_labels)[1],0.0,0,0])\n",
    "for i in range(T): #for each iteration calculate the accuracy and L-infinite norm of distance of the obtained modified matrices of that iteration\n",
    "  matrices=[inner_list[i] for inner_list in results_fwb1]\n",
    "  tl = np.expand_dims(true_labels[:1000], axis=-1)\n",
    "  td=np.expand_dims(matrices, axis=-1)\n",
    "  finals_fwb1.append([i+1,model.evaluate(td,tl)[1],np.max((matrices)-(random_correctly_predicted_inputs[:1000])),np.abs(np.mean((matrices)-(random_correctly_predicted_inputs[:1000])))])\n",
    "\n",
    "finals_fwb2=[]\n",
    "finals_fwb2.append([0,model.evaluate(test_data,test_labels)[1],0.0,0,0])\n",
    "for i in range(T):\n",
    "  matrices=[inner_list[i] for inner_list in results_fwb2]\n",
    "  tl = np.expand_dims(true_labels[:1000], axis=-1)\n",
    "  td=np.expand_dims(matrices, axis=-1)\n",
    "  finals_fwb2.append([i+1,model.evaluate(td,tl)[1],np.max((matrices)-(random_correctly_predicted_inputs[:1000])),np.abs(np.mean((matrices)-(random_correctly_predicted_inputs[:1000])))])"
   ]
  },
  {
   "cell_type": "markdown",
   "id": "88edb3c1",
   "metadata": {
    "id": "vo16rf9HAh5R"
   },
   "source": [
    "# Cifar10 Acc-SZ0FW"
   ]
  },
  {
   "cell_type": "code",
   "execution_count": 39,
   "id": "b55f6cfc",
   "metadata": {
    "id": "3tObHXrEApyP"
   },
   "outputs": [],
   "source": [
    "gg=np.arange(100)\n",
    "d=32\n",
    "T=10\n",
    "epsilon=0.1\n",
    "q=20\n",
    "b=1\n",
    "b1=300\n",
    "b2=20\n",
    "n=1\n",
    "mi=0.01\n",
    "eta=1/math.sqrt(T)\n",
    "beta=(1/d)*(1/math.sqrt(T))\n",
    "fs_setting=1\n",
    "setting2=1\n",
    "rgb=1\n",
    "start_time = time.process_time()\n",
    "results_acc_fs = [acc_szofw(random_correctly_predicted_inputs[i],err_labels[i],d, T,epsilon,q,b,b1,b2, n, mi,eta,beta, fs_setting, setting2,rgb) for i in gg]\n",
    "end_time = time.process_time()\n",
    "elapsed_time_acc_fs = end_time - start_time"
   ]
  },
  {
   "cell_type": "code",
   "execution_count": 40,
   "id": "23a50b2a",
   "metadata": {
    "colab": {
     "base_uri": "https://localhost:8080/",
     "height": 403
    },
    "id": "RTTpVytzmyg8",
    "outputId": "fe5d07ca-0158-471e-9ada-7e9e77a4bbdc"
   },
   "outputs": [
    {
     "name": "stderr",
     "output_type": "stream",
     "text": [
      "WARNING:matplotlib.image:Clipping input data to the valid range for imshow with RGB data ([0..1] for floats or [0..255] for integers).\n"
     ]
    },
    {
     "data": {
      "image/png": "[encoded data removed]",
      "text/plain": [
       "<Figure size 640x480 with 2 Axes>"
      ]
     },
     "metadata": {},
     "output_type": "display_data"
    },
    {
     "name": "stdout",
     "output_type": "stream",
     "text": [
      "L-infinite norm of the difference: 0.09486832980505144\n",
      "1/1 [==============================] - 0s 58ms/step\n",
      "True Label: 1 Predicted Label: 9\n"
     ]
    }
   ],
   "source": [
    "figg, axx = plt.subplots(1,2)\n",
    "plt.gray()\n",
    "axx[0].imshow(random_correctly_predicted_inputs[0])\n",
    "axx[0].axis('off')\n",
    "axx[1].imshow(results_acc_fs[0][0])\n",
    "axx[1].axis('off')\n",
    "plt.tight_layout()\n",
    "plt.show()\n",
    "print(\"L-infinite norm of the difference: {}\".format(np.max(np.abs((results_acc_fs[0][0]) - (random_correctly_predicted_inputs[0])))))\n",
    "sample=np.expand_dims(results_acc_fs[0][0], axis=-1)\n",
    "sample=np.expand_dims(sample, axis=0)\n",
    "label = np.expand_dims(true_labels[0], axis=0)\n",
    "print(\"True Label: {} Predicted Label: {}\".format(np.argmax(true_labels[0]), np.argmax(model.predict(sample))))"
   ]
  },
  {
   "cell_type": "code",
   "execution_count": 41,
   "id": "1926e0b3",
   "metadata": {
    "id": "Oer1uOBWAtui"
   },
   "outputs": [],
   "source": [
    "gg=np.arange(100)\n",
    "d=32\n",
    "T=10\n",
    "epsilon = 0.1\n",
    "q=20\n",
    "b=1\n",
    "b1=300\n",
    "b2=20\n",
    "n=1\n",
    "mi=0.01\n",
    "eta=1/math.sqrt(T)\n",
    "beta=(1/d)*(1/math.sqrt(T))\n",
    "fs_setting=2\n",
    "setting2=1\n",
    "rgb=1\n",
    "start_time = time.process_time()\n",
    "results_acc_ss1 = [acc_szofw(random_correctly_predicted_inputs[i],err_labels[i],d, T,epsilon,q,b,b1,b2, n, mi,eta,beta, fs_setting, setting2,rgb) for i in gg]\n",
    "end_time = time.process_time()\n",
    "elapsed_time_acc_ss1 = end_time - start_time"
   ]
  },
  {
   "cell_type": "code",
   "execution_count": 42,
   "id": "5ca8e142",
   "metadata": {
    "colab": {
     "base_uri": "https://localhost:8080/",
     "height": 403
    },
    "id": "cugxpch2nJbL",
    "outputId": "a3c14815-cb01-49b2-c4b3-a842870d87fb"
   },
   "outputs": [
    {
     "name": "stderr",
     "output_type": "stream",
     "text": [
      "WARNING:matplotlib.image:Clipping input data to the valid range for imshow with RGB data ([0..1] for floats or [0..255] for integers).\n"
     ]
    },
    {
     "data": {
      "image/png": "[encoded data removed]",
      "text/plain": [
       "<Figure size 640x480 with 2 Axes>"
      ]
     },
     "metadata": {},
     "output_type": "display_data"
    },
    {
     "name": "stdout",
     "output_type": "stream",
     "text": [
      "L-infinite norm of the difference: 0.09486832980505144\n",
      "1/1 [==============================] - 0s 33ms/step\n",
      "True Label: 1 Predicted Label: 9\n"
     ]
    }
   ],
   "source": [
    "figg, axx = plt.subplots(1,2)\n",
    "plt.gray()\n",
    "axx[0].imshow(random_correctly_predicted_inputs[0])\n",
    "axx[0].axis('off')\n",
    "axx[1].imshow(results_acc_ss1[0][0])\n",
    "axx[1].axis('off')\n",
    "plt.tight_layout()\n",
    "plt.show()\n",
    "print(\"L-infinite norm of the difference: {}\".format(np.max(np.abs((results_acc_ss1[0][0]) - (random_correctly_predicted_inputs[0])))))\n",
    "sample=np.expand_dims(results_acc_ss1[0][0], axis=-1)\n",
    "sample=np.expand_dims(sample, axis=0)\n",
    "label = np.expand_dims(true_labels[0], axis=0)\n",
    "print(\"True Label: {} Predicted Label: {}\".format(np.argmax(true_labels[0]), np.argmax(model.predict(sample))))"
   ]
  },
  {
   "cell_type": "code",
   "execution_count": 43,
   "id": "d4735fbf",
   "metadata": {
    "id": "JNe87AsSAxIF"
   },
   "outputs": [],
   "source": [
    "gg=np.arange(100)\n",
    "d=32\n",
    "T=10\n",
    "epsilon = 0.1\n",
    "q=20\n",
    "b=1\n",
    "b1=300\n",
    "b2=20\n",
    "n=1\n",
    "mi=0.01\n",
    "eta=1/math.sqrt(T)\n",
    "beta=(1/d)*(1/math.sqrt(T))\n",
    "fs_setting=2\n",
    "setting2=2\n",
    "rgb=1\n",
    "start_time = time.process_time()\n",
    "results_acc_ss2 = [acc_szofw(random_correctly_predicted_inputs[i],err_labels[i],d, T,epsilon,q,b,b1,b2, n, mi,eta,beta, fs_setting, setting2,rgb) for i in gg]\n",
    "end_time = time.process_time()\n",
    "elapsed_time_acc_ss2 = end_time - start_time"
   ]
  },
  {
   "cell_type": "code",
   "execution_count": 44,
   "id": "c8d3dd70",
   "metadata": {
    "colab": {
     "base_uri": "https://localhost:8080/",
     "height": 403
    },
    "id": "yfPfCpTvnKib",
    "outputId": "1510191d-0994-4d5d-9cc2-f402ee15efac"
   },
   "outputs": [
    {
     "name": "stderr",
     "output_type": "stream",
     "text": [
      "WARNING:matplotlib.image:Clipping input data to the valid range for imshow with RGB data ([0..1] for floats or [0..255] for integers).\n"
     ]
    },
    {
     "data": {
      "image/png": "[encoded data removed]",
      "text/plain": [
       "<Figure size 640x480 with 2 Axes>"
      ]
     },
     "metadata": {},
     "output_type": "display_data"
    },
    {
     "name": "stdout",
     "output_type": "stream",
     "text": [
      "L-infinite norm of the difference: 0.09486832980505144\n",
      "1/1 [==============================] - 0s 38ms/step\n",
      "True Label: 1 Predicted Label: 9\n"
     ]
    }
   ],
   "source": [
    "figg, axx = plt.subplots(1,2)\n",
    "plt.gray()\n",
    "axx[0].imshow(random_correctly_predicted_inputs[0])\n",
    "axx[0].axis('off')\n",
    "axx[1].imshow(results_acc_ss2[0][0])\n",
    "axx[1].axis('off')\n",
    "plt.tight_layout()\n",
    "plt.show()\n",
    "print(\"L-infinite norm of the difference: {}\".format(np.max(np.abs((results_acc_ss2[0][0]) - (random_correctly_predicted_inputs[0])))))\n",
    "sample=np.expand_dims(results_acc_ss2[0][0], axis=-1)\n",
    "sample=np.expand_dims(sample, axis=0)\n",
    "label = np.expand_dims(true_labels[0], axis=0)\n",
    "print(\"True Label: {} Predicted Label: {}\".format(np.argmax(true_labels[0]), np.argmax(model.predict(sample))))"
   ]
  },
  {
   "cell_type": "code",
   "execution_count": 45,
   "id": "db85af96",
   "metadata": {
    "colab": {
     "base_uri": "https://localhost:8080/"
    },
    "id": "s5twEvXwA0hV",
    "outputId": "c08de112-1503-4d15-d9dc-923f65c657e9"
   },
   "outputs": [
    {
     "name": "stdout",
     "output_type": "stream",
     "text": [
      "313/313 [==============================] - 1s 4ms/step - loss: 0.9505 - accuracy: 0.7083\n",
      "4/4 [==============================] - 0s 6ms/step - loss: 9.8016 - accuracy: 0.0700\n",
      "4/4 [==============================] - 0s 6ms/step - loss: 9.8853 - accuracy: 0.0700\n",
      "4/4 [==============================] - 0s 7ms/step - loss: 9.8877 - accuracy: 0.0700\n",
      "4/4 [==============================] - 0s 5ms/step - loss: 9.9488 - accuracy: 0.0700\n",
      "4/4 [==============================] - 0s 5ms/step - loss: 9.9451 - accuracy: 0.0700\n",
      "4/4 [==============================] - 0s 6ms/step - loss: 9.9803 - accuracy: 0.0800\n",
      "4/4 [==============================] - 0s 5ms/step - loss: 10.0015 - accuracy: 0.0700\n",
      "4/4 [==============================] - 0s 5ms/step - loss: 10.0256 - accuracy: 0.0800\n",
      "4/4 [==============================] - 0s 7ms/step - loss: 10.0190 - accuracy: 0.0800\n",
      "4/4 [==============================] - 0s 5ms/step - loss: 10.0090 - accuracy: 0.0800\n",
      "313/313 [==============================] - 1s 3ms/step - loss: 0.9505 - accuracy: 0.7083\n",
      "4/4 [==============================] - 0s 6ms/step - loss: 2.8884 - accuracy: 0.3600\n",
      "4/4 [==============================] - 0s 5ms/step - loss: 2.9439 - accuracy: 0.3600\n",
      "4/4 [==============================] - 0s 5ms/step - loss: 2.9874 - accuracy: 0.3600\n",
      "4/4 [==============================] - 0s 5ms/step - loss: 3.0187 - accuracy: 0.3500\n",
      "4/4 [==============================] - 0s 6ms/step - loss: 3.0264 - accuracy: 0.3400\n",
      "4/4 [==============================] - 0s 6ms/step - loss: 3.0374 - accuracy: 0.3300\n",
      "4/4 [==============================] - 0s 6ms/step - loss: 3.0573 - accuracy: 0.3300\n",
      "4/4 [==============================] - 0s 5ms/step - loss: 3.0537 - accuracy: 0.3400\n",
      "4/4 [==============================] - 0s 5ms/step - loss: 3.0742 - accuracy: 0.3300\n",
      "4/4 [==============================] - 0s 5ms/step - loss: 3.0567 - accuracy: 0.3300\n",
      "313/313 [==============================] - 1s 3ms/step - loss: 0.9505 - accuracy: 0.7083\n",
      "4/4 [==============================] - 0s 8ms/step - loss: 6.3010 - accuracy: 0.1400\n",
      "4/4 [==============================] - 0s 6ms/step - loss: 6.4174 - accuracy: 0.1400\n",
      "4/4 [==============================] - 0s 5ms/step - loss: 6.4706 - accuracy: 0.1400\n",
      "4/4 [==============================] - 0s 8ms/step - loss: 6.5186 - accuracy: 0.1400\n",
      "4/4 [==============================] - 0s 5ms/step - loss: 6.5462 - accuracy: 0.1400\n",
      "4/4 [==============================] - 0s 5ms/step - loss: 6.5859 - accuracy: 0.1400\n",
      "4/4 [==============================] - 0s 6ms/step - loss: 6.5882 - accuracy: 0.1400\n",
      "4/4 [==============================] - 0s 6ms/step - loss: 6.6020 - accuracy: 0.1400\n",
      "4/4 [==============================] - 0s 5ms/step - loss: 6.6175 - accuracy: 0.1400\n",
      "4/4 [==============================] - 0s 5ms/step - loss: 6.6404 - accuracy: 0.1400\n"
     ]
    }
   ],
   "source": [
    "finals_acc_fs=[]\n",
    "finals_acc_fs.append([0,model.evaluate(test_data,test_labels)[1],0.0,0,0])\n",
    "for i in range(T):\n",
    "  matrices=[inner_list[i] for inner_list in results_acc_fs]\n",
    "  tl = np.expand_dims(true_labels[:1000], axis=-1)\n",
    "  td=np.expand_dims(matrices, axis=-1)\n",
    "  finals_acc_fs.append([i+1,model.evaluate(td,tl)[1],np.max((matrices)-(random_correctly_predicted_inputs[:1000])),np.abs(np.mean((matrices)-(random_correctly_predicted_inputs[:1000])))])\n",
    "\n",
    "finals_acc_ss1=[]\n",
    "finals_acc_ss1.append([0,model.evaluate(test_data,test_labels)[1],0.0,0,0])\n",
    "for i in range(T):\n",
    "  matrices=[inner_list[i] for inner_list in results_acc_ss1]\n",
    "  tl = np.expand_dims(true_labels[:1000], axis=-1)\n",
    "  td=np.expand_dims(matrices, axis=-1)\n",
    "  finals_acc_ss1.append([i+1,model.evaluate(td,tl)[1],np.max((matrices)-(random_correctly_predicted_inputs[:1000])),np.abs(np.mean((matrices)-(random_correctly_predicted_inputs[:1000])))])\n",
    "\n",
    "finals_acc_ss2=[]\n",
    "finals_acc_ss2.append([0,model.evaluate(test_data,test_labels)[1],0.0,0,0])\n",
    "for i in range(T):\n",
    "  matrices=[inner_list[i] for inner_list in results_acc_ss2]\n",
    "  tl = np.expand_dims(true_labels[:1000], axis=-1)\n",
    "  td=np.expand_dims(matrices, axis=-1)\n",
    "  finals_acc_ss2.append([i+1,model.evaluate(td,tl)[1],np.max((matrices)-(random_correctly_predicted_inputs[:1000])),np.abs(np.mean((matrices)-(random_correctly_predicted_inputs[:1000])))])"
   ]
  },
  {
   "cell_type": "code",
   "execution_count": 46,
   "id": "a94f3331",
   "metadata": {
    "colab": {
     "base_uri": "https://localhost:8080/",
     "height": 407
    },
    "id": "8B_KhBOIA3IL",
    "outputId": "db41232a-3722-4c52-8aa0-b446da03abb4"
   },
   "outputs": [
    {
     "data": {
      "image/png": "[encoded data removed]",
      "text/plain": [
       "<Figure size 1200x400 with 3 Axes>"
      ]
     },
     "metadata": {},
     "output_type": "display_data"
    }
   ],
   "source": [
    "iter = [item[0] for item in finals_fwb1]\n",
    "fwb1_values = [item[1] for item in finals_fwb1]\n",
    "fwb2_values = [item[1] for item in finals_fwb2]\n",
    "acc_fs_values = [item[1] for item in finals_acc_fs]\n",
    "acc_ss1_values = [item[1] for item in finals_acc_ss1]\n",
    "acc_ss2_values = [item[1] for item in finals_acc_ss2]\n",
    "\n",
    "fwb1_d = [item[2] for item in finals_fwb1]\n",
    "fwb2_d = [item[2] for item in finals_fwb2]\n",
    "acc_fs_d = [item[2] for item in finals_acc_fs]\n",
    "acc_ss1_d = [item[2] for item in finals_acc_ss1]\n",
    "acc_ss2_d = [item[2] for item in finals_acc_ss2]\n",
    "\n",
    "fwb1_dd = [item[3] for item in finals_fwb1]\n",
    "fwb2_dd = [item[3] for item in finals_fwb2]\n",
    "acc_fs_dd = [item[3] for item in finals_acc_fs]\n",
    "acc_ss1_dd = [item[3] for item in finals_acc_ss1]\n",
    "acc_ss2_dd = [item[3] for item in finals_acc_ss2]\n",
    "\n",
    "# Creating subplots\n",
    "fig, (ax1, ax2, ax3) = plt.subplots(1, 3, figsize=(12, 4))\n",
    "# Plotting first subplot\n",
    "ax1.plot(iter, fwb1_values, linestyle='-', color='b',label='FW-Black Eucli')\n",
    "ax1.plot(iter, fwb2_values, linestyle='-', color='g',label='FW-Black Gauge')\n",
    "ax1.plot(iter, acc_fs_values, linestyle='-', color='y',label='ACC-ZOFW')\n",
    "ax1.plot(iter, acc_ss1_values, linestyle='-', color='m',label='ACC-SZOFW Cooge')\n",
    "ax1.plot(iter, acc_ss2_values, linestyle='-', color='c',label='ACC-SZOFW Unige')\n",
    "ax1.set_xlabel('Iteration')\n",
    "ax1.set_ylabel('Accuracy')\n",
    "ax1.set_title('Accuracy Decrease')\n",
    "ax1.grid(True)\n",
    "ax1.legend(loc='upper right',fontsize=6.5)\n",
    "\n",
    "# Plotting second subplot\n",
    "ax2.plot(iter, fwb1_d,  linestyle='-', color='b')\n",
    "ax2.plot(iter, fwb2_d,  linestyle='-', color='g')\n",
    "ax2.plot(iter, acc_fs_d,  linestyle='-', color='y')\n",
    "ax2.plot(iter, acc_ss1_d,  linestyle='-', color='m')\n",
    "ax2.plot(iter, acc_ss2_d,  linestyle='-', color='c')\n",
    "ax2.set_xlabel('Iteration')\n",
    "ax2.set_ylabel('Distance')\n",
    "ax2.set_title('Distance')\n",
    "ax2.grid(True)\n",
    "\n",
    "# Plotting third subplot\n",
    "ax3.plot(iter, fwb1_dd,  linestyle='-', color='b')\n",
    "ax3.plot(iter, fwb2_dd,  linestyle='-', color='g')\n",
    "ax3.plot(iter, acc_fs_dd,  linestyle='-', color='y')\n",
    "ax3.plot(iter, acc_ss1_dd,  linestyle='-', color='m')\n",
    "ax3.plot(iter, acc_ss2_dd,  linestyle='-', color='c')\n",
    "ax3.set_xlabel('Iteration')\n",
    "ax3.set_ylabel('Distance')\n",
    "ax3.set_title('Mean Distance')\n",
    "ax3.grid(True)\n",
    "\n",
    "# Adjusting layout and showing the plots\n",
    "plt.tight_layout()\n",
    "plt.show()"
   ]
  },
  {
   "cell_type": "code",
   "execution_count": 47,
   "id": "8a09e80e",
   "metadata": {
    "colab": {
     "base_uri": "https://localhost:8080/"
    },
    "id": "keIPu0wohBGN",
    "outputId": "0183d659-f7e7-4609-ba01-1ffb42470fcf"
   },
   "outputs": [
    {
     "name": "stdout",
     "output_type": "stream",
     "text": [
      "FWBB Euclidean - Final Accuracy: 0.27000001072883606 - Mean Distance: 0.00010532346583406636 - Max Distance: 0.09966757050469166 - Time: 21.09766119699998\n",
      "FWBB Gaussian - Final Accuracy: 0.23000000417232513 - Mean Distance: 0.00027535181939380835 - Max Distance: 0.09966757050469166 - Time: 19.935490543000014\n",
      "AccZOFW FS - Final Accuracy: 0.07999999821186066 - Mean Distance: 0.0009549392422094124 - Max Distance: 0.09997088898551687 - Time: 187.04696864900006\n",
      "AccSZOFW Cooge - Final Accuracy: 0.33000001311302185 - Mean Distance: 4.653025773728017e-05 - Max Distance: 0.09997088898551687 - Time: 215.79006648700033\n",
      "AccSZOFW Unige - Final Accuracy: 0.14000000059604645 - Mean Distance: 9.424466545012855e-05 - Max Distance: 0.09997088898551687 - Time: 37.545501461000185\n"
     ]
    }
   ],
   "source": [
    "print(\"FWBB Euclidean - Final Accuracy: {} - Mean Distance: {} - Max Distance: {} - Time: {}\".format(fwb1_values[-1],fwb1_dd[-1],fwb1_d[-1],elapsed_time_fwb1))\n",
    "print(\"FWBB Gaussian - Final Accuracy: {} - Mean Distance: {} - Max Distance: {} - Time: {}\".format(fwb2_values[-1],fwb2_dd[-1],fwb2_d[-1],elapsed_time_fwb2))\n",
    "print(\"AccZOFW FS - Final Accuracy: {} - Mean Distance: {} - Max Distance: {} - Time: {}\".format(acc_fs_values[-1],acc_fs_dd[-1],acc_fs_d[-1],elapsed_time_acc_fs))\n",
    "print(\"AccSZOFW Cooge - Final Accuracy: {} - Mean Distance: {} - Max Distance: {} - Time: {}\".format(acc_ss1_values[-1],acc_ss1_dd[-1],acc_ss1_d[-1],elapsed_time_acc_ss1))\n",
    "print(\"AccSZOFW Unige - Final Accuracy: {} - Mean Distance: {} - Max Distance: {} - Time: {}\".format(acc_ss2_values[-1],acc_ss2_dd[-1],acc_ss2_d[-1],elapsed_time_acc_ss2))"
   ]
  }
 ],
 "metadata": {
  "accelerator": "GPU",
  "colab": {
   "collapsed_sections": [
    "kAwQhtBbBenY",
    "f0LKD4fkBrtk",
    "zay9MP_WCDcU",
    "4SL0lVAYCO2F",
    "DWxCQpzrthFe",
    "J28IRwJgyS6C",
    "DiQ_-5FPAaTl",
    "vo16rf9HAh5R"
   ],
   "gpuType": "T4",
   "provenance": []
  },
  "kernelspec": {
   "display_name": "Python 3 (ipykernel)",
   "language": "python",
   "name": "python3"
  },
  "language_info": {
   "codemirror_mode": {
    "name": "ipython",
    "version": 3
   },
   "file_extension": ".py",
   "mimetype": "text/x-python",
   "name": "python",
   "nbconvert_exporter": "python",
   "pygments_lexer": "ipython3",
   "version": "3.7.10"
  }
 },
 "nbformat": 4,
 "nbformat_minor": 5
}
